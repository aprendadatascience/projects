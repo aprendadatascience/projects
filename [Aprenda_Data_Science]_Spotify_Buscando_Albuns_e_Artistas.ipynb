{
  "nbformat": 4,
  "nbformat_minor": 0,
  "metadata": {
    "colab": {
      "name": "[Aprenda Data Science] Spotify -Buscando Albuns e Artistas.ipynb",
      "provenance": [],
      "authorship_tag": "ABX9TyPZIiSFQ9gT6cUdfSn/HhUa",
      "include_colab_link": true
    },
    "kernelspec": {
      "name": "python3",
      "display_name": "Python 3"
    },
    "language_info": {
      "name": "python"
    }
  },
  "cells": [
    {
      "cell_type": "markdown",
      "metadata": {
        "id": "view-in-github",
        "colab_type": "text"
      },
      "source": [
        "<a href=\"https://colab.research.google.com/github/aprendadatascience/projects/blob/master/%5BAprenda_Data_Science%5D_Spotify_Buscando_Albuns_e_Artistas.ipynb\" target=\"_parent\"><img src=\"https://colab.research.google.com/assets/colab-badge.svg\" alt=\"Open In Colab\"/></a>"
      ]
    },
    {
      "cell_type": "code",
      "execution_count": 1,
      "metadata": {
        "colab": {
          "base_uri": "https://localhost:8080/"
        },
        "id": "tfNE58pPgS6j",
        "outputId": "cdb37824-8b51-4051-a2a5-92658f1ffd1a"
      },
      "outputs": [
        {
          "output_type": "stream",
          "name": "stdout",
          "text": [
            "Looking in indexes: https://pypi.org/simple, https://us-python.pkg.dev/colab-wheels/public/simple/\n",
            "Requirement already satisfied: spotipy in /usr/local/lib/python3.7/dist-packages (2.19.0)\n",
            "Requirement already satisfied: urllib3>=1.26.0 in /usr/local/lib/python3.7/dist-packages (from spotipy) (1.26.9)\n",
            "Requirement already satisfied: six>=1.15.0 in /usr/local/lib/python3.7/dist-packages (from spotipy) (1.15.0)\n",
            "Requirement already satisfied: requests>=2.25.0 in /usr/local/lib/python3.7/dist-packages (from spotipy) (2.28.0)\n",
            "Requirement already satisfied: idna<4,>=2.5 in /usr/local/lib/python3.7/dist-packages (from requests>=2.25.0->spotipy) (2.10)\n",
            "Requirement already satisfied: charset-normalizer~=2.0.0 in /usr/local/lib/python3.7/dist-packages (from requests>=2.25.0->spotipy) (2.0.12)\n",
            "Requirement already satisfied: certifi>=2017.4.17 in /usr/local/lib/python3.7/dist-packages (from requests>=2.25.0->spotipy) (2022.5.18.1)\n"
          ]
        }
      ],
      "source": [
        "!pip install spotipy"
      ]
    },
    {
      "cell_type": "code",
      "source": [
        "import spotipy\n",
        "from spotipy.oauth2 import SpotifyClientCredentials\n",
        "# Credenciais \n",
        "CLIENT_ID=\"d7da9c7e7fee4d279b767bdc268663bc\"\n",
        "CLIENT_SECRET=\"04a3475a513448f3936a1ea6cbd1a6a5\"\n",
        "client_credentials_manager = SpotifyClientCredentials(\n",
        "    client_id=CLIENT_ID, client_secret=CLIENT_SECRET)\n",
        "sp = spotipy.Spotify(client_credentials_manager=client_credentials_manager)"
      ],
      "metadata": {
        "id": "LfaAScHYi_jU"
      },
      "execution_count": 2,
      "outputs": []
    },
    {
      "cell_type": "markdown",
      "source": [
        "##Consultando Albuns"
      ],
      "metadata": {
        "id": "xnomOKDQzCrf"
      }
    },
    {
      "cell_type": "code",
      "source": [
        "albums = sp.search(q='album:'+'barão',type='album', limit=10)\n",
        "albums['albums']['items'][0]"
      ],
      "metadata": {
        "colab": {
          "base_uri": "https://localhost:8080/"
        },
        "id": "BIJ226tGzIcz",
        "outputId": "1bb8e4dd-d5e7-413b-c4fb-04100f9be017"
      },
      "execution_count": 3,
      "outputs": [
        {
          "output_type": "execute_result",
          "data": {
            "text/plain": [
              "{'album_type': 'album',\n",
              " 'artists': [{'external_urls': {'spotify': 'https://open.spotify.com/artist/5zq0SGWxrmzpTSXkBEQzMj'},\n",
              "   'href': 'https://api.spotify.com/v1/artists/5zq0SGWxrmzpTSXkBEQzMj',\n",
              "   'id': '5zq0SGWxrmzpTSXkBEQzMj',\n",
              "   'name': 'Barão Vermelho',\n",
              "   'type': 'artist',\n",
              "   'uri': 'spotify:artist:5zq0SGWxrmzpTSXkBEQzMj'}],\n",
              " 'available_markets': ['AD',\n",
              "  'AE',\n",
              "  'AG',\n",
              "  'AL',\n",
              "  'AM',\n",
              "  'AO',\n",
              "  'AR',\n",
              "  'AT',\n",
              "  'AU',\n",
              "  'AZ',\n",
              "  'BA',\n",
              "  'BB',\n",
              "  'BD',\n",
              "  'BE',\n",
              "  'BF',\n",
              "  'BG',\n",
              "  'BH',\n",
              "  'BI',\n",
              "  'BJ',\n",
              "  'BN',\n",
              "  'BO',\n",
              "  'BR',\n",
              "  'BS',\n",
              "  'BT',\n",
              "  'BW',\n",
              "  'BY',\n",
              "  'BZ',\n",
              "  'CA',\n",
              "  'CD',\n",
              "  'CG',\n",
              "  'CH',\n",
              "  'CI',\n",
              "  'CL',\n",
              "  'CM',\n",
              "  'CO',\n",
              "  'CR',\n",
              "  'CV',\n",
              "  'CW',\n",
              "  'CY',\n",
              "  'CZ',\n",
              "  'DE',\n",
              "  'DJ',\n",
              "  'DK',\n",
              "  'DM',\n",
              "  'DO',\n",
              "  'DZ',\n",
              "  'EC',\n",
              "  'EE',\n",
              "  'EG',\n",
              "  'ES',\n",
              "  'FI',\n",
              "  'FJ',\n",
              "  'FM',\n",
              "  'FR',\n",
              "  'GA',\n",
              "  'GB',\n",
              "  'GD',\n",
              "  'GE',\n",
              "  'GH',\n",
              "  'GM',\n",
              "  'GN',\n",
              "  'GQ',\n",
              "  'GR',\n",
              "  'GT',\n",
              "  'GW',\n",
              "  'GY',\n",
              "  'HK',\n",
              "  'HN',\n",
              "  'HR',\n",
              "  'HT',\n",
              "  'HU',\n",
              "  'ID',\n",
              "  'IE',\n",
              "  'IL',\n",
              "  'IN',\n",
              "  'IQ',\n",
              "  'IS',\n",
              "  'IT',\n",
              "  'JM',\n",
              "  'JO',\n",
              "  'JP',\n",
              "  'KE',\n",
              "  'KG',\n",
              "  'KH',\n",
              "  'KI',\n",
              "  'KM',\n",
              "  'KN',\n",
              "  'KR',\n",
              "  'KW',\n",
              "  'KZ',\n",
              "  'LA',\n",
              "  'LB',\n",
              "  'LC',\n",
              "  'LI',\n",
              "  'LK',\n",
              "  'LR',\n",
              "  'LS',\n",
              "  'LT',\n",
              "  'LU',\n",
              "  'LV',\n",
              "  'LY',\n",
              "  'MA',\n",
              "  'MC',\n",
              "  'MD',\n",
              "  'ME',\n",
              "  'MG',\n",
              "  'MH',\n",
              "  'MK',\n",
              "  'ML',\n",
              "  'MN',\n",
              "  'MO',\n",
              "  'MR',\n",
              "  'MT',\n",
              "  'MU',\n",
              "  'MV',\n",
              "  'MW',\n",
              "  'MX',\n",
              "  'MY',\n",
              "  'MZ',\n",
              "  'NA',\n",
              "  'NE',\n",
              "  'NG',\n",
              "  'NI',\n",
              "  'NL',\n",
              "  'NO',\n",
              "  'NP',\n",
              "  'NR',\n",
              "  'NZ',\n",
              "  'OM',\n",
              "  'PA',\n",
              "  'PE',\n",
              "  'PG',\n",
              "  'PH',\n",
              "  'PK',\n",
              "  'PL',\n",
              "  'PS',\n",
              "  'PT',\n",
              "  'PW',\n",
              "  'PY',\n",
              "  'QA',\n",
              "  'RO',\n",
              "  'RS',\n",
              "  'RW',\n",
              "  'SA',\n",
              "  'SB',\n",
              "  'SC',\n",
              "  'SE',\n",
              "  'SG',\n",
              "  'SI',\n",
              "  'SK',\n",
              "  'SL',\n",
              "  'SM',\n",
              "  'SN',\n",
              "  'SR',\n",
              "  'ST',\n",
              "  'SV',\n",
              "  'SZ',\n",
              "  'TD',\n",
              "  'TG',\n",
              "  'TH',\n",
              "  'TJ',\n",
              "  'TL',\n",
              "  'TN',\n",
              "  'TO',\n",
              "  'TR',\n",
              "  'TT',\n",
              "  'TV',\n",
              "  'TW',\n",
              "  'TZ',\n",
              "  'UA',\n",
              "  'UG',\n",
              "  'US',\n",
              "  'UY',\n",
              "  'UZ',\n",
              "  'VC',\n",
              "  'VE',\n",
              "  'VN',\n",
              "  'VU',\n",
              "  'WS',\n",
              "  'XK',\n",
              "  'ZA',\n",
              "  'ZM',\n",
              "  'ZW'],\n",
              " 'external_urls': {'spotify': 'https://open.spotify.com/album/4iBQN73xgA56iyWf7DfZmK'},\n",
              " 'href': 'https://api.spotify.com/v1/albums/4iBQN73xgA56iyWf7DfZmK',\n",
              " 'id': '4iBQN73xgA56iyWf7DfZmK',\n",
              " 'images': [{'height': 640,\n",
              "   'url': 'https://i.scdn.co/image/ab67616d0000b2733667c8a1ff3b2ab27d76c305',\n",
              "   'width': 640},\n",
              "  {'height': 300,\n",
              "   'url': 'https://i.scdn.co/image/ab67616d00001e023667c8a1ff3b2ab27d76c305',\n",
              "   'width': 300},\n",
              "  {'height': 64,\n",
              "   'url': 'https://i.scdn.co/image/ab67616d000048513667c8a1ff3b2ab27d76c305',\n",
              "   'width': 64}],\n",
              " 'name': 'Barão Pra Sempre',\n",
              " 'release_date': '2018-04-20',\n",
              " 'release_date_precision': 'day',\n",
              " 'total_tracks': 9,\n",
              " 'type': 'album',\n",
              " 'uri': 'spotify:album:4iBQN73xgA56iyWf7DfZmK'}"
            ]
          },
          "metadata": {},
          "execution_count": 3
        }
      ]
    },
    {
      "cell_type": "code",
      "source": [
        "len(albums['albums'])\n",
        "'''\n",
        "\"albums\": {\n",
        "    \"href\": \"https://api.spotify.com/v1/me/shows?offset=0&limit=20\\n\",\n",
        "    \"items\": [\n",
        "      {}\n",
        "    ],\n",
        "    \"limit\": 20,\n",
        "    \"next\": \"https://api.spotify.com/v1/me/shows?offset=1&limit=1\",\n",
        "    \"offset\": 0,\n",
        "    \"previous\": \"https://api.spotify.com/v1/me/shows?offset=1&limit=1\",\n",
        "    \"total\": 4\n",
        "  },\n",
        "\n",
        "'''"
      ],
      "metadata": {
        "colab": {
          "base_uri": "https://localhost:8080/",
          "height": 70
        },
        "id": "FCEPmwKnz99I",
        "outputId": "2b8c0276-bc4f-4bc0-a04d-47004c2d5671"
      },
      "execution_count": 4,
      "outputs": [
        {
          "output_type": "execute_result",
          "data": {
            "text/plain": [
              "'\\n\"albums\": {\\n    \"href\": \"https://api.spotify.com/v1/me/shows?offset=0&limit=20\\n\",\\n    \"items\": [\\n      {}\\n    ],\\n    \"limit\": 20,\\n    \"next\": \"https://api.spotify.com/v1/me/shows?offset=1&limit=1\",\\n    \"offset\": 0,\\n    \"previous\": \"https://api.spotify.com/v1/me/shows?offset=1&limit=1\",\\n    \"total\": 4\\n  },\\n\\n'"
            ],
            "application/vnd.google.colaboratory.intrinsic+json": {
              "type": "string"
            }
          },
          "metadata": {},
          "execution_count": 4
        }
      ]
    },
    {
      "cell_type": "code",
      "source": [
        "len(albums['albums']['items'])"
      ],
      "metadata": {
        "colab": {
          "base_uri": "https://localhost:8080/"
        },
        "id": "WNjSE4VN0YSo",
        "outputId": "5cf0e5e3-7311-47c0-88f8-541149ae90c5"
      },
      "execution_count": 5,
      "outputs": [
        {
          "output_type": "execute_result",
          "data": {
            "text/plain": [
              "10"
            ]
          },
          "metadata": {},
          "execution_count": 5
        }
      ]
    },
    {
      "cell_type": "code",
      "source": [
        "dict_item=albums['albums']['items'][0]\n",
        "print('Nome Album:',dict_item['name'])\n",
        "print('Nome Artista:', dict_item['artists'][0]['name'])\n",
        "print('Id do Artista',dict_item['artists'][0]['id'])\n",
        "print('Data de Lançamento:',dict_item['release_date'])\n",
        "print('Número de músicas',dict_item['total_tracks'])\n",
        "print('URI:',dict_item['uri'])"
      ],
      "metadata": {
        "colab": {
          "base_uri": "https://localhost:8080/"
        },
        "id": "uMtX9Rexz_RM",
        "outputId": "6f42f971-b5e0-48d6-d1a3-9dc42864f0d1"
      },
      "execution_count": 6,
      "outputs": [
        {
          "output_type": "stream",
          "name": "stdout",
          "text": [
            "Nome Album: Barão Pra Sempre\n",
            "Nome Artista: Barão Vermelho\n",
            "Id do Artista 5zq0SGWxrmzpTSXkBEQzMj\n",
            "Data de Lançamento: 2018-04-20\n",
            "Número de músicas 9\n",
            "URI: spotify:album:4iBQN73xgA56iyWf7DfZmK\n"
          ]
        }
      ]
    },
    {
      "cell_type": "code",
      "source": [
        "count=0\n",
        "for count in range(len(albums['albums']['items'])):\n",
        "    dict_item=albums['albums']['items'][count]\n",
        "    print('Nome:',dict_item['name'])\n",
        "    print('Nome Artista:', dict_item['artists'][0]['name'])\n",
        "    print('Id do Artista',dict_item['artists'][0]['id'])\n",
        "    print('Data de Lançamento:',dict_item['release_date'])\n",
        "    print('Número de músicas',dict_item['total_tracks'])\n",
        "    print('URI:',dict_item['uri'])\n",
        "    print('----------------')\n"
      ],
      "metadata": {
        "colab": {
          "base_uri": "https://localhost:8080/"
        },
        "id": "ZTLkx2TMH6FE",
        "outputId": "985b6d5e-98fe-4939-9e2e-22a3de1519eb"
      },
      "execution_count": 7,
      "outputs": [
        {
          "output_type": "stream",
          "name": "stdout",
          "text": [
            "Nome: Barão Pra Sempre\n",
            "Nome Artista: Barão Vermelho\n",
            "Id do Artista 5zq0SGWxrmzpTSXkBEQzMj\n",
            "Data de Lançamento: 2018-04-20\n",
            "Número de músicas 9\n",
            "URI: spotify:album:4iBQN73xgA56iyWf7DfZmK\n",
            "----------------\n",
            "Nome: iCollection - Barão Vermelho\n",
            "Nome Artista: Barão Vermelho\n",
            "Id do Artista 5zq0SGWxrmzpTSXkBEQzMj\n",
            "Data de Lançamento: 2012-04-23\n",
            "Número de músicas 20\n",
            "URI: spotify:album:5CtS9j4kbLFsj53rbcphZ8\n",
            "----------------\n",
            "Nome: Barão Vermelho 2\n",
            "Nome Artista: Barão Vermelho\n",
            "Id do Artista 5zq0SGWxrmzpTSXkBEQzMj\n",
            "Data de Lançamento: 1983-01-01\n",
            "Número de músicas 11\n",
            "URI: spotify:album:3tPQA9m5HhUPxFi14K9YRr\n",
            "----------------\n",
            "Nome: Barão Vermelho 2\n",
            "Nome Artista: Barão Vermelho\n",
            "Id do Artista 5zq0SGWxrmzpTSXkBEQzMj\n",
            "Data de Lançamento: 1982\n",
            "Número de músicas 10\n",
            "URI: spotify:album:1WdPUPjRnDyPVLw6sdS1bs\n",
            "----------------\n",
            "Nome: Setembro Piseiro do Barão 2021\n",
            "Nome Artista: Piseiro do Barão\n",
            "Id do Artista 3AQ1kwnzBdMEHNmkJOKHeA\n",
            "Data de Lançamento: 2021-09-29\n",
            "Número de músicas 5\n",
            "URI: spotify:album:4E6MXZTOsBFLbrqGTdaMgz\n",
            "----------------\n",
            "Nome: Barão Vermelho (Edição Especial 30 Anos)\n",
            "Nome Artista: Barão Vermelho\n",
            "Id do Artista 5zq0SGWxrmzpTSXkBEQzMj\n",
            "Data de Lançamento: 2012-12-18\n",
            "Número de músicas 14\n",
            "URI: spotify:album:0NGac6o9zachTaIlA2s4bn\n",
            "----------------\n",
            "Nome: Barão (Ao Vivo)\n",
            "Nome Artista: Barão Vermelho\n",
            "Id do Artista 5zq0SGWxrmzpTSXkBEQzMj\n",
            "Data de Lançamento: 1990-09-25\n",
            "Número de músicas 10\n",
            "URI: spotify:album:5x7S6IiS5cebErNggGiyJG\n",
            "----------------\n",
            "Nome: Baraonda\n",
            "Nome Artista: Matisse\n",
            "Id do Artista 47Ria9f6AWVxwugecE16t0\n",
            "Data de Lançamento: 2019-03-22\n",
            "Número de músicas 1\n",
            "URI: spotify:album:6mTO8oL8G6byEsY9QAtYcZ\n",
            "----------------\n",
            "Nome: Barão\n",
            "Nome Artista: PJ5\n",
            "Id do Artista 1KdtOAQHlSnjm6yw3O3tEH\n",
            "Data de Lançamento: 2018-04-17\n",
            "Número de músicas 1\n",
            "URI: spotify:album:24B7gqvOlD0UMELoHoHvKx\n",
            "----------------\n",
            "Nome: Baraozinho\n",
            "Nome Artista: Barao da farra\n",
            "Id do Artista 2RVR78voZf7KGXGjrVTB6k\n",
            "Data de Lançamento: 2021-12-04\n",
            "Número de músicas 8\n",
            "URI: spotify:album:7MMk4waqRpHKpmoJLqjh6u\n",
            "----------------\n"
          ]
        }
      ]
    },
    {
      "cell_type": "markdown",
      "source": [
        "## Lista de álbuns por artista"
      ],
      "metadata": {
        "id": "Z5K-ZSqKEoG6"
      }
    },
    {
      "cell_type": "code",
      "source": [
        "artist_id = '5zq0SGWxrmzpTSXkBEQzMj'"
      ],
      "metadata": {
        "id": "F2dyntEMEzDk"
      },
      "execution_count": 23,
      "outputs": []
    },
    {
      "cell_type": "code",
      "source": [
        "artist_uri = 'spotify:artist:' + artist_id\n",
        "results = sp.artist_albums(artist_uri, album_type='album', limit=5)\n",
        "albums = results['items']"
      ],
      "metadata": {
        "id": "6A5w8-2HEon9"
      },
      "execution_count": 24,
      "outputs": []
    },
    {
      "cell_type": "code",
      "source": [
        "for album in albums:\n",
        "     print(album['name']+\" (Banda: \" + album['artists'][0]['name'] + \" )\")"
      ],
      "metadata": {
        "colab": {
          "base_uri": "https://localhost:8080/"
        },
        "id": "21Cg74M9Hxpm",
        "outputId": "d568c455-a79b-40d2-a619-6e9e5c80cadc"
      },
      "execution_count": 25,
      "outputs": [
        {
          "output_type": "stream",
          "name": "stdout",
          "text": [
            "VIVA (Banda: Barão Vermelho )\n",
            "Barão Pra Sempre (Banda: Barão Vermelho )\n",
            "Barão Vermelho (Edição Especial 30 Anos) (Banda: Barão Vermelho )\n",
            "iCollection - Barão Vermelho (Banda: Barão Vermelho )\n",
            "Warner 30 anos (Banda: Barão Vermelho )\n"
          ]
        }
      ]
    },
    {
      "cell_type": "code",
      "source": [
        "while results['next']:\n",
        "    results = sp.next(results)\n",
        "    albums.extend(results['items'])"
      ],
      "metadata": {
        "id": "q8iHjoBHLjlo"
      },
      "execution_count": 26,
      "outputs": []
    },
    {
      "cell_type": "code",
      "source": [
        "for album in albums:\n",
        "     print(album['name']+\" (Banda: \" + album['artists'][0]['name'] + \" )\")"
      ],
      "metadata": {
        "colab": {
          "base_uri": "https://localhost:8080/"
        },
        "id": "yGfSEvRGK0Yi",
        "outputId": "6835922b-2537-493f-94a6-29b829519bfd"
      },
      "execution_count": 27,
      "outputs": [
        {
          "output_type": "stream",
          "name": "stdout",
          "text": [
            "VIVA (Banda: Barão Vermelho )\n",
            "Barão Pra Sempre (Banda: Barão Vermelho )\n",
            "Barão Vermelho (Edição Especial 30 Anos) (Banda: Barão Vermelho )\n",
            "iCollection - Barão Vermelho (Banda: Barão Vermelho )\n",
            "Warner 30 anos (Banda: Barão Vermelho )\n",
            "MTV ao Vivo - Vol. 1 (Banda: Barão Vermelho )\n",
            "Barão Vermelho (Banda: Barão Vermelho )\n",
            "Warner 25 anos (Banda: Barão Vermelho )\n",
            "E-collection (Banda: Barão Vermelho )\n",
            "Puro Êxtase (Banda: Barão Vermelho )\n",
            "Ao Vivo - Remix (Banda: Barão Vermelho )\n",
            "Álbum (Banda: Barão Vermelho )\n",
            "Carne Crua (Banda: Barão Vermelho )\n",
            "Carne Crua (Banda: Barão Vermelho )\n",
            "Balada MTV (Banda: Barão Vermelho )\n",
            "Barão (Ao Vivo) (Banda: Barão Vermelho )\n",
            "Carnaval (Banda: Barão Vermelho )\n",
            "Geração Pop 2 (Banda: Barão Vermelho )\n",
            "Pop Brasil (Banda: Barão Vermelho )\n",
            "Supermercados da Vida (Banda: Barão Vermelho )\n",
            "Na calada da noite (Banda: Barão Vermelho )\n",
            "Rock'N Geral (Banda: Barão Vermelho )\n",
            "Declare Guerra (Banda: Barão Vermelho )\n",
            "Maior Abandonado (Banda: Barão Vermelho )\n",
            "Barão Vermelho 2 (Banda: Barão Vermelho )\n",
            "Declare Guerra! (Banda: Barão Vermelho )\n",
            "Barão Vermelho (Banda: Barão Vermelho )\n",
            "Barão Vermelho (Banda: Barão Vermelho )\n",
            "Barão Vermelho 2 (Banda: Barão Vermelho )\n"
          ]
        }
      ]
    },
    {
      "cell_type": "markdown",
      "source": [
        "## Buscando músicas"
      ],
      "metadata": {
        "id": "TMUCCSVoE65p"
      }
    },
    {
      "cell_type": "code",
      "source": [
        "results = sp.search(q='track:'+'Levitating', type='track', limit=5)"
      ],
      "metadata": {
        "id": "VSOpgQ3pE9UI"
      },
      "execution_count": 32,
      "outputs": []
    },
    {
      "cell_type": "code",
      "source": [
        "items_in_tracks = results['tracks']['items']\n",
        "if len(items_in_tracks) > 0:\n",
        "    for item in items_in_tracks:\n",
        "        print(item['name'] + \" - por - \" + item['artists'][0]['name'])\n",
        "        print(\"ID da música: \" + item['id'])\n",
        "        print(\"ID Artista/Banda - \" + item['artists'][0]['id'])\n",
        "        print(\"------\")"
      ],
      "metadata": {
        "colab": {
          "base_uri": "https://localhost:8080/"
        },
        "id": "5-RtgqGNMAaJ",
        "outputId": "3e43e7ce-08d5-4a6b-b2ed-671270c9babd"
      },
      "execution_count": 34,
      "outputs": [
        {
          "output_type": "stream",
          "name": "stdout",
          "text": [
            "Levitating (feat. DaBaby) - por - Dua Lipa\n",
            "ID da música: 5nujrmhLynf4yMoMtj8AQF\n",
            "ID Artista/Banda - 6M2wZ9GZgrQXHCFfjv46we\n",
            "------\n",
            "Levitating - por - Dua Lipa\n",
            "ID da música: 39LLxExYz6ewLAcYrzQQyP\n",
            "ID Artista/Banda - 6M2wZ9GZgrQXHCFfjv46we\n",
            "------\n",
            "Levitating (feat. DaBaby) - por - Dua Lipa\n",
            "ID da música: 463CkQjx2Zk1yXoBuierM9\n",
            "ID Artista/Banda - 6M2wZ9GZgrQXHCFfjv46we\n",
            "------\n",
            "Levitating - por - Kidz Bop Kids\n",
            "ID da música: 0jElcVB3zyu75HmlrbA8XE\n",
            "ID Artista/Banda - 1Vvvx45Apu6dQqwuZQxtgW\n",
            "------\n",
            "Levitating (feat. DaBaby) - por - Dua Lipa\n",
            "ID da música: 0v2boHmWtxMTD2REGN8MbK\n",
            "ID Artista/Banda - 6M2wZ9GZgrQXHCFfjv46we\n",
            "------\n"
          ]
        }
      ]
    }
  ]
}