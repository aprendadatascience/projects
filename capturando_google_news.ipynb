{
  "nbformat": 4,
  "nbformat_minor": 0,
  "metadata": {
    "colab": {
      "name": "capturando_google_news.ipynb",
      "provenance": [],
      "authorship_tag": "ABX9TyN95OquTuunawWMzngCre7O",
      "include_colab_link": true
    },
    "kernelspec": {
      "name": "python3",
      "display_name": "Python 3"
    }
  },
  "cells": [
    {
      "cell_type": "markdown",
      "metadata": {
        "id": "view-in-github",
        "colab_type": "text"
      },
      "source": [
        "<a href=\"https://colab.research.google.com/github/aprendadatascience/projects/blob/master/capturando_google_news.ipynb\" target=\"_parent\"><img src=\"https://colab.research.google.com/assets/colab-badge.svg\" alt=\"Open In Colab\"/></a>"
      ]
    },
    {
      "cell_type": "code",
      "metadata": {
        "id": "AIvRGTGPxbDT",
        "colab_type": "code",
        "colab": {
          "base_uri": "https://localhost:8080/",
          "height": 51
        },
        "outputId": "f156965f-57df-46e5-d4ae-a54f6872ad03"
      },
      "source": [
        "!pip install GoogleNews"
      ],
      "execution_count": 2,
      "outputs": [
        {
          "output_type": "stream",
          "text": [
            "Requirement already satisfied: GoogleNews in /usr/local/lib/python3.6/dist-packages (1.4.1)\n",
            "Requirement already satisfied: beautifulsoup4 in /usr/local/lib/python3.6/dist-packages (from GoogleNews) (4.6.3)\n"
          ],
          "name": "stdout"
        }
      ]
    },
    {
      "cell_type": "code",
      "metadata": {
        "id": "W7Q0dIgvxfpz",
        "colab_type": "code",
        "colab": {}
      },
      "source": [
        "from GoogleNews import GoogleNews\n",
        "import pandas as pd"
      ],
      "execution_count": 6,
      "outputs": []
    },
    {
      "cell_type": "code",
      "metadata": {
        "id": "zrg6vAhN9plR",
        "colab_type": "code",
        "colab": {}
      },
      "source": [
        "googlenews=GoogleNews(period='d')\n",
        "googlenews.setlang('pt')\n",
        "googlenews.search('petrobras')"
      ],
      "execution_count": 19,
      "outputs": []
    },
    {
      "cell_type": "code",
      "metadata": {
        "id": "hRo3wUW0IgR6",
        "colab_type": "code",
        "colab": {
          "base_uri": "https://localhost:8080/",
          "height": 289
        },
        "outputId": "f9f45251-6c24-4e30-af27-e9b88188e3cb"
      },
      "source": [
        "result=googlenews.result()\n",
        "df=pd.DataFrame(result)\n",
        "df.head()"
      ],
      "execution_count": 20,
      "outputs": [
        {
          "output_type": "execute_result",
          "data": {
            "text/html": [
              "<div>\n",
              "<style scoped>\n",
              "    .dataframe tbody tr th:only-of-type {\n",
              "        vertical-align: middle;\n",
              "    }\n",
              "\n",
              "    .dataframe tbody tr th {\n",
              "        vertical-align: top;\n",
              "    }\n",
              "\n",
              "    .dataframe thead th {\n",
              "        text-align: right;\n",
              "    }\n",
              "</style>\n",
              "<table border=\"1\" class=\"dataframe\">\n",
              "  <thead>\n",
              "    <tr style=\"text-align: right;\">\n",
              "      <th></th>\n",
              "      <th>title</th>\n",
              "      <th>media</th>\n",
              "      <th>date</th>\n",
              "      <th>desc</th>\n",
              "      <th>link</th>\n",
              "      <th>img</th>\n",
              "    </tr>\n",
              "  </thead>\n",
              "  <tbody>\n",
              "    <tr>\n",
              "      <th>0</th>\n",
              "      <td>Petrobras adotará teletrabalho permanente para...</td>\n",
              "      <td>Valor Econômico</td>\n",
              "      <td>6 hours ago</td>\n",
              "      <td>A Petrobras vai implementar um modelo permanen...</td>\n",
              "      <td>https://valor.globo.com/empresas/noticia/2020/...</td>\n",
              "      <td>data:image/gif;base64,R0lGODlhAQABAIAAAP//////...</td>\n",
              "    </tr>\n",
              "    <tr>\n",
              "      <th>1</th>\n",
              "      <td>Petrobras aprova regras para teletrabalho perm...</td>\n",
              "      <td>Money Times</td>\n",
              "      <td>5 hours ago</td>\n",
              "      <td>A diretoria executiva da Petrobras (PETR4) apr...</td>\n",
              "      <td>https://www.moneytimes.com.br/petrobras-aprova...</td>\n",
              "      <td>data:image/gif;base64,R0lGODlhAQABAIAAAP//////...</td>\n",
              "    </tr>\n",
              "    <tr>\n",
              "      <th>2</th>\n",
              "      <td>Petrobras (PETR4) Anuncia Teletrabalho Permanente</td>\n",
              "      <td>The Capital Advisor</td>\n",
              "      <td>5 hours ago</td>\n",
              "      <td>Petrobras (PETR4) Anuncia Teletrabalho Permane...</td>\n",
              "      <td>https://comoinvestir.thecap.com.br/petrobras-p...</td>\n",
              "      <td>data:image/gif;base64,R0lGODlhAQABAIAAAP//////...</td>\n",
              "    </tr>\n",
              "    <tr>\n",
              "      <th>3</th>\n",
              "      <td>Petrobras opera refinarias com 78% da capacida...</td>\n",
              "      <td>Valor Econômico</td>\n",
              "      <td>2 hours ago</td>\n",
              "      <td>A Petrobras tem registrado dias seguidos de qu...</td>\n",
              "      <td>https://valor.globo.com/empresas/noticia/2020/...</td>\n",
              "      <td>data:image/gif;base64,R0lGODlhAQABAIAAAP//////...</td>\n",
              "    </tr>\n",
              "    <tr>\n",
              "      <th>4</th>\n",
              "      <td>IRB, Braskem, Petrobras, B3, EDP e mais: veja ...</td>\n",
              "      <td>Valor Investe</td>\n",
              "      <td>13 hours ago</td>\n",
              "      <td>IRB, Braskem, Petrobras, B3, EDP e mais: veja ...</td>\n",
              "      <td>https://valorinveste.globo.com/mercados/renda-...</td>\n",
              "      <td>data:image/gif;base64,R0lGODlhAQABAIAAAP//////...</td>\n",
              "    </tr>\n",
              "  </tbody>\n",
              "</table>\n",
              "</div>"
            ],
            "text/plain": [
              "                                               title  ...                                                img\n",
              "0  Petrobras adotará teletrabalho permanente para...  ...  data:image/gif;base64,R0lGODlhAQABAIAAAP//////...\n",
              "1  Petrobras aprova regras para teletrabalho perm...  ...  data:image/gif;base64,R0lGODlhAQABAIAAAP//////...\n",
              "2  Petrobras (PETR4) Anuncia Teletrabalho Permanente  ...  data:image/gif;base64,R0lGODlhAQABAIAAAP//////...\n",
              "3  Petrobras opera refinarias com 78% da capacida...  ...  data:image/gif;base64,R0lGODlhAQABAIAAAP//////...\n",
              "4  IRB, Braskem, Petrobras, B3, EDP e mais: veja ...  ...  data:image/gif;base64,R0lGODlhAQABAIAAAP//////...\n",
              "\n",
              "[5 rows x 6 columns]"
            ]
          },
          "metadata": {
            "tags": []
          },
          "execution_count": 20
        }
      ]
    },
    {
      "cell_type": "code",
      "metadata": {
        "id": "spypQUYeIHp3",
        "colab_type": "code",
        "colab": {}
      },
      "source": [
        "googlenews=GoogleNews(start='08/01/2020',end='08/31/2020')"
      ],
      "execution_count": 21,
      "outputs": []
    },
    {
      "cell_type": "code",
      "metadata": {
        "id": "xnjBxMqjOY8-",
        "colab_type": "code",
        "colab": {
          "base_uri": "https://localhost:8080/",
          "height": 289
        },
        "outputId": "13e80fc6-9dea-42b3-eb63-3dc2202f6e9c"
      },
      "source": [
        "googlenews.setlang('pt')\n",
        "googlenews.search('dólar')\n",
        "result=googlenews.result()\n",
        "df=pd.DataFrame(result)\n",
        "df.head()"
      ],
      "execution_count": 22,
      "outputs": [
        {
          "output_type": "execute_result",
          "data": {
            "text/html": [
              "<div>\n",
              "<style scoped>\n",
              "    .dataframe tbody tr th:only-of-type {\n",
              "        vertical-align: middle;\n",
              "    }\n",
              "\n",
              "    .dataframe tbody tr th {\n",
              "        vertical-align: top;\n",
              "    }\n",
              "\n",
              "    .dataframe thead th {\n",
              "        text-align: right;\n",
              "    }\n",
              "</style>\n",
              "<table border=\"1\" class=\"dataframe\">\n",
              "  <thead>\n",
              "    <tr style=\"text-align: right;\">\n",
              "      <th></th>\n",
              "      <th>title</th>\n",
              "      <th>media</th>\n",
              "      <th>date</th>\n",
              "      <th>desc</th>\n",
              "      <th>link</th>\n",
              "      <th>img</th>\n",
              "    </tr>\n",
              "  </thead>\n",
              "  <tbody>\n",
              "    <tr>\n",
              "      <th>0</th>\n",
              "      <td>Dólar cai quase 3% na sexta, refletindo ajuste...</td>\n",
              "      <td>Valor Econômico</td>\n",
              "      <td>3 days ago</td>\n",
              "      <td>No mês de agosto, no entanto, o dólar ainda ac...</td>\n",
              "      <td>https://valor.globo.com/financas/noticia/2020/...</td>\n",
              "      <td>data:image/gif;base64,R0lGODlhAQABAIAAAP//////...</td>\n",
              "    </tr>\n",
              "    <tr>\n",
              "      <th>1</th>\n",
              "      <td>Dólar comercial tem maior queda diária em quas...</td>\n",
              "      <td>Valor Investe</td>\n",
              "      <td>3 days ago</td>\n",
              "      <td>A forte desvalorização do dólar contra pratica...</td>\n",
              "      <td>https://valorinveste.globo.com/mercados/moedas...</td>\n",
              "      <td>data:image/gif;base64,R0lGODlhAQABAIAAAP//////...</td>\n",
              "    </tr>\n",
              "    <tr>\n",
              "      <th>2</th>\n",
              "      <td>Dólar fecha em queda após salto da véspera, ab...</td>\n",
              "      <td>G1</td>\n",
              "      <td>In-Depth · 4 days ago</td>\n",
              "      <td>O dólar fechou em queda nesta quinta-feira (27...</td>\n",
              "      <td>https://g1.globo.com/economia/noticia/2020/08/...</td>\n",
              "      <td>data:image/gif;base64,R0lGODlhAQABAIAAAP//////...</td>\n",
              "    </tr>\n",
              "    <tr>\n",
              "      <th>3</th>\n",
              "      <td>Dólar volta a fechar acima de R$ 5,50 com risc...</td>\n",
              "      <td>Valor Econômico</td>\n",
              "      <td>2 weeks ago</td>\n",
              "      <td>A valorização do dólar chamou a atenção do BC,...</td>\n",
              "      <td>https://valor.globo.com/financas/noticia/2020/...</td>\n",
              "      <td>data:image/gif;base64,R0lGODlhAQABAIAAAP//////...</td>\n",
              "    </tr>\n",
              "    <tr>\n",
              "      <th>4</th>\n",
              "      <td>Em sessão instável, dólar cai ante rivais com ...</td>\n",
              "      <td></td>\n",
              "      <td>1 week ago</td>\n",
              "      <td>O dólar recuou ante rivais nesta quinta-feira,...</td>\n",
              "      <td>https://www.istoedinheiro.com.br/em-sessao-ins...</td>\n",
              "      <td>data:image/gif;base64,R0lGODlhAQABAIAAAP//////...</td>\n",
              "    </tr>\n",
              "  </tbody>\n",
              "</table>\n",
              "</div>"
            ],
            "text/plain": [
              "                                               title  ...                                                img\n",
              "0  Dólar cai quase 3% na sexta, refletindo ajuste...  ...  data:image/gif;base64,R0lGODlhAQABAIAAAP//////...\n",
              "1  Dólar comercial tem maior queda diária em quas...  ...  data:image/gif;base64,R0lGODlhAQABAIAAAP//////...\n",
              "2  Dólar fecha em queda após salto da véspera, ab...  ...  data:image/gif;base64,R0lGODlhAQABAIAAAP//////...\n",
              "3  Dólar volta a fechar acima de R$ 5,50 com risc...  ...  data:image/gif;base64,R0lGODlhAQABAIAAAP//////...\n",
              "4  Em sessão instável, dólar cai ante rivais com ...  ...  data:image/gif;base64,R0lGODlhAQABAIAAAP//////...\n",
              "\n",
              "[5 rows x 6 columns]"
            ]
          },
          "metadata": {
            "tags": []
          },
          "execution_count": 22
        }
      ]
    },
    {
      "cell_type": "code",
      "metadata": {
        "id": "ouaI7BFdxthP",
        "colab_type": "code",
        "colab": {}
      },
      "source": [
        "for i in range(1,5):\n",
        "    googlenews.getpage(i)\n",
        "    result=googlenews.result()\n",
        "    df=pd.DataFrame(result)"
      ],
      "execution_count": 39,
      "outputs": []
    },
    {
      "cell_type": "code",
      "metadata": {
        "id": "2r771O8kPLdz",
        "colab_type": "code",
        "colab": {}
      },
      "source": [
        "googlenews.gettext()"
      ],
      "execution_count": null,
      "outputs": []
    },
    {
      "cell_type": "code",
      "metadata": {
        "id": "Lop_2QGaPMVb",
        "colab_type": "code",
        "colab": {}
      },
      "source": [
        ""
      ],
      "execution_count": null,
      "outputs": []
    },
    {
      "cell_type": "code",
      "metadata": {
        "id": "1j2VHLsfPOdd",
        "colab_type": "code",
        "colab": {}
      },
      "source": [
        "googlenews.getlinks()"
      ],
      "execution_count": null,
      "outputs": []
    }
  ]
}