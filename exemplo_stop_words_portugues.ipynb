{
  "nbformat": 4,
  "nbformat_minor": 0,
  "metadata": {
    "colab": {
      "name": "exemplo_stop_words_portugues.ipynb",
      "provenance": [],
      "authorship_tag": "ABX9TyNyhJYf9MXZSy2vC8vdMEWH",
      "include_colab_link": true
    },
    "kernelspec": {
      "name": "python3",
      "display_name": "Python 3"
    },
    "language_info": {
      "name": "python"
    }
  },
  "cells": [
    {
      "cell_type": "markdown",
      "metadata": {
        "id": "view-in-github",
        "colab_type": "text"
      },
      "source": [
        "<a href=\"https://colab.research.google.com/github/aprendadatascience/projects/blob/master/exemplo_stop_words_portugues.ipynb\" target=\"_parent\"><img src=\"https://colab.research.google.com/assets/colab-badge.svg\" alt=\"Open In Colab\"/></a>"
      ]
    },
    {
      "cell_type": "markdown",
      "metadata": {
        "id": "Y0rzMP5o8qUH"
      },
      "source": [
        "#Exemplo de Stopwords com NLTK"
      ]
    },
    {
      "cell_type": "code",
      "metadata": {
        "colab": {
          "base_uri": "https://localhost:8080/"
        },
        "id": "wQvVuzn050GS",
        "outputId": "df823a70-edfa-4cef-8d46-b3b2ce6c2f95"
      },
      "source": [
        "# Stopwords em português:\n",
        "import nltk\n",
        "nltk.download('stopwords')\n",
        "stopwords = nltk.corpus.stopwords.words('portuguese')\n",
        "stopwords[:10]"
      ],
      "execution_count": 14,
      "outputs": [
        {
          "output_type": "stream",
          "text": [
            "[nltk_data] Downloading package stopwords to /root/nltk_data...\n",
            "[nltk_data]   Package stopwords is already up-to-date!\n"
          ],
          "name": "stdout"
        },
        {
          "output_type": "execute_result",
          "data": {
            "text/plain": [
              "['de', 'a', 'o', 'que', 'e', 'é', 'do', 'da', 'em', 'um']"
            ]
          },
          "metadata": {
            "tags": []
          },
          "execution_count": 14
        }
      ]
    },
    {
      "cell_type": "markdown",
      "metadata": {
        "id": "KlWxpAA96fxY"
      },
      "source": [
        "## Quantidade de stopwords existentes no NLTK"
      ]
    },
    {
      "cell_type": "code",
      "metadata": {
        "colab": {
          "base_uri": "https://localhost:8080/"
        },
        "id": "Dorbnatb6EW8",
        "outputId": "5b4443ec-98cf-46b6-b28e-e40b476743e8"
      },
      "source": [
        "len(stopwords)"
      ],
      "execution_count": 2,
      "outputs": [
        {
          "output_type": "execute_result",
          "data": {
            "text/plain": [
              "204"
            ]
          },
          "metadata": {
            "tags": []
          },
          "execution_count": 2
        }
      ]
    },
    {
      "cell_type": "markdown",
      "metadata": {
        "id": "8NekkUie6jxY"
      },
      "source": [
        "## Teste de Stopwords"
      ]
    },
    {
      "cell_type": "code",
      "metadata": {
        "colab": {
          "base_uri": "https://localhost:8080/"
        },
        "id": "--oYGoTD6I07",
        "outputId": "aec47596-869e-461e-cb38-b7267b08a2d6"
      },
      "source": [
        "'a' in stopwords"
      ],
      "execution_count": 3,
      "outputs": [
        {
          "output_type": "execute_result",
          "data": {
            "text/plain": [
              "True"
            ]
          },
          "metadata": {
            "tags": []
          },
          "execution_count": 3
        }
      ]
    },
    {
      "cell_type": "code",
      "metadata": {
        "colab": {
          "base_uri": "https://localhost:8080/"
        },
        "id": "0es1YOz76KlC",
        "outputId": "d5915b74-2dca-4241-f935-a8b39371bbdd"
      },
      "source": [
        "'alex' in stopwords"
      ],
      "execution_count": 4,
      "outputs": [
        {
          "output_type": "execute_result",
          "data": {
            "text/plain": [
              "False"
            ]
          },
          "metadata": {
            "tags": []
          },
          "execution_count": 4
        }
      ]
    },
    {
      "cell_type": "markdown",
      "metadata": {
        "id": "XjTkLO9P8fsp"
      },
      "source": [
        "## Remoção de Stopwords"
      ]
    },
    {
      "cell_type": "code",
      "metadata": {
        "colab": {
          "base_uri": "https://localhost:8080/"
        },
        "id": "01VO4nKC6Lkj",
        "outputId": "934c9e78-cb4a-4416-bb1d-3fc228bef71c"
      },
      "source": [
        "from nltk.corpus import stopwords\n",
        "from nltk.tokenize import word_tokenize\n",
        "nltk.download('punkt')\n",
        "text = 'Ele é um dos melhores programados do país'\n",
        "text = word_tokenize(text)\n",
        "text_with_no_stopwords = [word for word in text if word not in stopwords.words('portuguese')]"
      ],
      "execution_count": 12,
      "outputs": [
        {
          "output_type": "stream",
          "text": [
            "[nltk_data] Downloading package punkt to /root/nltk_data...\n",
            "[nltk_data]   Package punkt is already up-to-date!\n"
          ],
          "name": "stdout"
        }
      ]
    },
    {
      "cell_type": "markdown",
      "metadata": {
        "id": "dPJsehTH8iTf"
      },
      "source": [
        "### Com as stopwords"
      ]
    },
    {
      "cell_type": "code",
      "metadata": {
        "colab": {
          "base_uri": "https://localhost:8080/"
        },
        "id": "YWQleaa27szr",
        "outputId": "bc502ebb-8656-466e-bc5f-eaf5c4c7b2f9"
      },
      "source": [
        "print(text)"
      ],
      "execution_count": 10,
      "outputs": [
        {
          "output_type": "stream",
          "text": [
            "['Ele', 'é', 'um', 'dos', 'melhores', 'programados', 'do', 'país']\n"
          ],
          "name": "stdout"
        }
      ]
    },
    {
      "cell_type": "markdown",
      "metadata": {
        "id": "5E3pBhPB8knG"
      },
      "source": [
        "### Sem as stopwords"
      ]
    },
    {
      "cell_type": "code",
      "metadata": {
        "colab": {
          "base_uri": "https://localhost:8080/"
        },
        "id": "OECdiqQL73op",
        "outputId": "89284311-ef05-48d2-d973-bcd5bb87c871"
      },
      "source": [
        "print(text_with_no_stopwords)"
      ],
      "execution_count": 13,
      "outputs": [
        {
          "output_type": "stream",
          "text": [
            "['Ele', 'melhores', 'programados', 'país']\n"
          ],
          "name": "stdout"
        }
      ]
    }
  ]
}