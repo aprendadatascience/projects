{
  "nbformat": 4,
  "nbformat_minor": 0,
  "metadata": {
    "colab": {
      "name": "Numpy-exercicios.ipynb",
      "provenance": [],
      "authorship_tag": "ABX9TyOJc/4j7AzJ4Gw1BcnN5FoR",
      "include_colab_link": true
    },
    "kernelspec": {
      "name": "python3",
      "display_name": "Python 3"
    }
  },
  "cells": [
    {
      "cell_type": "markdown",
      "metadata": {
        "id": "view-in-github",
        "colab_type": "text"
      },
      "source": [
        "<a href=\"https://colab.research.google.com/github/aprendadatascience/projects/blob/master/Numpy_exercicios.ipynb\" target=\"_parent\"><img src=\"https://colab.research.google.com/assets/colab-badge.svg\" alt=\"Open In Colab\"/></a>"
      ]
    },
    {
      "cell_type": "markdown",
      "metadata": {
        "id": "mg9Rcg_0DXv8",
        "colab_type": "text"
      },
      "source": [
        "#1 Qual a versao do Numpy instalada?"
      ]
    },
    {
      "cell_type": "code",
      "metadata": {
        "id": "g3p86qFmChnS",
        "colab_type": "code",
        "colab": {
          "base_uri": "https://localhost:8080/",
          "height": 34
        },
        "outputId": "d9d14cc3-1693-415c-ea96-dbead0217a70"
      },
      "source": [
        "import numpy as np\n",
        "print(np.__version__)"
      ],
      "execution_count": 2,
      "outputs": [
        {
          "output_type": "stream",
          "text": [
            "1.18.5\n"
          ],
          "name": "stdout"
        }
      ]
    },
    {
      "cell_type": "code",
      "metadata": {
        "id": "O-C65Czyp2zK",
        "colab_type": "code",
        "colab": {
          "base_uri": "https://localhost:8080/",
          "height": 55
        },
        "outputId": "c4bd76d8-b138-4f08-cfc9-8a4f613b835c"
      },
      "source": [
        "!pip install numpy"
      ],
      "execution_count": null,
      "outputs": [
        {
          "output_type": "stream",
          "text": [
            "Requirement already satisfied: numpy in /usr/local/lib/python3.6/dist-packages (1.18.5)\n"
          ],
          "name": "stdout"
        }
      ]
    },
    {
      "cell_type": "markdown",
      "metadata": {
        "id": "julXZ4kEEcXn",
        "colab_type": "text"
      },
      "source": [
        "#2 Como criar um array de 1 dimensão?"
      ]
    },
    {
      "cell_type": "code",
      "metadata": {
        "id": "8idWC1BrGPHa",
        "colab_type": "code",
        "colab": {}
      },
      "source": [
        "arr = np.arange(6)\n"
      ],
      "execution_count": null,
      "outputs": []
    },
    {
      "cell_type": "code",
      "metadata": {
        "id": "rJESjVI4N6Vq",
        "colab_type": "code",
        "colab": {
          "base_uri": "https://localhost:8080/",
          "height": 35
        },
        "outputId": "70aff557-8089-4bbd-f84d-5f2549cf3a1e"
      },
      "source": [
        "arr"
      ],
      "execution_count": null,
      "outputs": [
        {
          "output_type": "execute_result",
          "data": {
            "text/plain": [
              "array([0, 1, 2, 3, 4, 5])"
            ]
          },
          "metadata": {
            "tags": []
          },
          "execution_count": 12
        }
      ]
    },
    {
      "cell_type": "markdown",
      "metadata": {
        "id": "tBTlCr7y5H0U",
        "colab_type": "text"
      },
      "source": [
        "#3 Crie um array boolean de dimensões 3×3, todos os itens devem ser True"
      ]
    },
    {
      "cell_type": "markdown",
      "metadata": {
        "id": "_AmRQY1cbxb6",
        "colab_type": "text"
      },
      "source": [
        "3.1 Utilize a funcao full"
      ]
    },
    {
      "cell_type": "code",
      "metadata": {
        "id": "Mt73mmCuxjqW",
        "colab_type": "code",
        "colab": {
          "base_uri": "https://localhost:8080/",
          "height": 71
        },
        "outputId": "fddf0797-adf8-4e75-e6d7-9a11d0583ff4"
      },
      "source": [
        "np.full((3,3), True, dtype=bool)"
      ],
      "execution_count": null,
      "outputs": [
        {
          "output_type": "execute_result",
          "data": {
            "text/plain": [
              "array([[ True,  True,  True],\n",
              "       [ True,  True,  True],\n",
              "       [ True,  True,  True]])"
            ]
          },
          "metadata": {
            "tags": []
          },
          "execution_count": 14
        }
      ]
    },
    {
      "cell_type": "markdown",
      "metadata": {
        "id": "4oqDE60Ub1G4",
        "colab_type": "text"
      },
      "source": [
        "3.2 Utilize a função ones"
      ]
    },
    {
      "cell_type": "code",
      "metadata": {
        "id": "mQJEDrcbbV6N",
        "colab_type": "code",
        "colab": {
          "base_uri": "https://localhost:8080/",
          "height": 71
        },
        "outputId": "fc063a50-aa22-4e62-e37f-f2b068bb6e12"
      },
      "source": [
        "np.ones((3,3),dtype=bool)"
      ],
      "execution_count": null,
      "outputs": [
        {
          "output_type": "execute_result",
          "data": {
            "text/plain": [
              "array([[ True,  True,  True],\n",
              "       [ True,  True,  True],\n",
              "       [ True,  True,  True]])"
            ]
          },
          "metadata": {
            "tags": []
          },
          "execution_count": 16
        }
      ]
    },
    {
      "cell_type": "markdown",
      "metadata": {
        "id": "roCcr6K4lszZ",
        "colab_type": "text"
      },
      "source": [
        "#4 Filtre itens de um array numpy utilizando uma determinada condição"
      ]
    },
    {
      "cell_type": "code",
      "metadata": {
        "id": "wCtZLaU6xs-z",
        "colab_type": "code",
        "colab": {}
      },
      "source": [
        "# Extrair somente os números ímpares \n",
        "# dado o array abaixo\n",
        "arr = np.array([0, 1, 2, 3, 4, 5, 6, 7, 8, 9])"
      ],
      "execution_count": null,
      "outputs": []
    },
    {
      "cell_type": "code",
      "metadata": {
        "id": "m-dzovmoxtXT",
        "colab_type": "code",
        "colab": {
          "base_uri": "https://localhost:8080/",
          "height": 35
        },
        "outputId": "c1e89ea8-ee35-41c0-f95e-aad44bfefc14"
      },
      "source": [
        "arr[ arr % 2 == 1]"
      ],
      "execution_count": null,
      "outputs": [
        {
          "output_type": "execute_result",
          "data": {
            "text/plain": [
              "array([1, 3, 5, 7, 9])"
            ]
          },
          "metadata": {
            "tags": []
          },
          "execution_count": 7
        }
      ]
    },
    {
      "cell_type": "markdown",
      "metadata": {
        "id": "OK_sJN9BZeur",
        "colab_type": "text"
      },
      "source": [
        "#5 Substitua determinados itens de um array numpy considerando uma condição"
      ]
    },
    {
      "cell_type": "code",
      "metadata": {
        "id": "NXUZgRujBCDI",
        "colab_type": "code",
        "colab": {}
      },
      "source": [
        "arr = np.array([0,1,2,3,4,5,6,7])"
      ],
      "execution_count": null,
      "outputs": []
    },
    {
      "cell_type": "markdown",
      "metadata": {
        "id": "mLq11GjR91Ud",
        "colab_type": "text"
      },
      "source": [
        "5.1 Substitua todos os números ímpares por -1"
      ]
    },
    {
      "cell_type": "code",
      "metadata": {
        "id": "fWGVTt3bD7sc",
        "colab_type": "code",
        "colab": {}
      },
      "source": [
        "arr[ arr %2 == 1] = -1"
      ],
      "execution_count": null,
      "outputs": []
    },
    {
      "cell_type": "code",
      "metadata": {
        "id": "bATtK1jeECCW",
        "colab_type": "code",
        "colab": {
          "base_uri": "https://localhost:8080/",
          "height": 55
        },
        "outputId": "52575486-bbc9-4594-f22c-d0034b1e9d72"
      },
      "source": [
        "arr"
      ],
      "execution_count": null,
      "outputs": [
        {
          "output_type": "execute_result",
          "data": {
            "text/plain": [
              "array([ 0, -1,  2, -1,  4, -1,  6, -1])"
            ]
          },
          "metadata": {
            "tags": []
          },
          "execution_count": 26
        }
      ]
    },
    {
      "cell_type": "markdown",
      "metadata": {
        "id": "hCtVCZqhmFdv",
        "colab_type": "text"
      },
      "source": [
        "#6 Substitua os itens ímpares do array arr por -1, mas sem modificar o array arr"
      ]
    },
    {
      "cell_type": "code",
      "metadata": {
        "id": "4ur4vsWepEzf",
        "colab_type": "code",
        "colab": {}
      },
      "source": [
        "arr = np.arange(1,8)"
      ],
      "execution_count": null,
      "outputs": []
    },
    {
      "cell_type": "code",
      "metadata": {
        "id": "u0qUNrGMpJ2_",
        "colab_type": "code",
        "colab": {
          "base_uri": "https://localhost:8080/",
          "height": 35
        },
        "outputId": "e16bd155-3f31-4b2a-9f9d-6a44f621030e"
      },
      "source": [
        "arr"
      ],
      "execution_count": null,
      "outputs": [
        {
          "output_type": "execute_result",
          "data": {
            "text/plain": [
              "array([1, 2, 3, 4, 5, 6, 7])"
            ]
          },
          "metadata": {
            "tags": []
          },
          "execution_count": 8
        }
      ]
    },
    {
      "cell_type": "code",
      "metadata": {
        "id": "YQWQxxSWpLsb",
        "colab_type": "code",
        "colab": {}
      },
      "source": [
        "novo_arr = np.where(arr % 2 ==1, -1 , arr)"
      ],
      "execution_count": null,
      "outputs": []
    },
    {
      "cell_type": "code",
      "metadata": {
        "id": "2moouKjppY33",
        "colab_type": "code",
        "colab": {}
      },
      "source": [
        "novo_arr"
      ],
      "execution_count": null,
      "outputs": []
    },
    {
      "cell_type": "markdown",
      "metadata": {
        "id": "ntBY7LZBm186",
        "colab_type": "text"
      },
      "source": [
        "#7 Alterando a forma/dimensão de um array numpy\n",
        "7.1 Altere a dimensão de um array de 1D p/ um de 2D com 2 linhas\n"
      ]
    },
    {
      "cell_type": "code",
      "metadata": {
        "id": "z80t624LpZ1g",
        "colab_type": "code",
        "colab": {}
      },
      "source": [
        "# Array Inicial = array([ 0, 1, 2, 3, 4, 5, 6, 7, 8, 9])"
      ],
      "execution_count": null,
      "outputs": []
    },
    {
      "cell_type": "code",
      "metadata": {
        "id": "qMPxBoltpMUQ",
        "colab_type": "code",
        "colab": {}
      },
      "source": [
        "a = np.arange(0,10)"
      ],
      "execution_count": null,
      "outputs": []
    },
    {
      "cell_type": "code",
      "metadata": {
        "id": "m1IBvS8EptMd",
        "colab_type": "code",
        "colab": {
          "base_uri": "https://localhost:8080/",
          "height": 55
        },
        "outputId": "baa64ea9-c181-4102-d3f7-95772099969e"
      },
      "source": [
        "a"
      ],
      "execution_count": null,
      "outputs": [
        {
          "output_type": "execute_result",
          "data": {
            "text/plain": [
              "array([0, 1, 2, 3, 4, 5, 6, 7, 8, 9])"
            ]
          },
          "metadata": {
            "tags": []
          },
          "execution_count": 18
        }
      ]
    },
    {
      "cell_type": "code",
      "metadata": {
        "id": "iiNhjWs3nbXr",
        "colab_type": "code",
        "colab": {}
      },
      "source": [
        "# Array Desejado\n",
        "#> array([[0, 1, 2, 3, 4],\n",
        "#>        [5, 6, 7, 8, 9]])"
      ],
      "execution_count": null,
      "outputs": []
    },
    {
      "cell_type": "code",
      "metadata": {
        "id": "tkrkuXrcpvbf",
        "colab_type": "code",
        "colab": {
          "base_uri": "https://localhost:8080/",
          "height": 53
        },
        "outputId": "042df5e8-4734-436c-f49b-59d4b7930d6e"
      },
      "source": [
        "a.reshape(2,-1)"
      ],
      "execution_count": null,
      "outputs": [
        {
          "output_type": "execute_result",
          "data": {
            "text/plain": [
              "array([[0, 1, 2, 3, 4],\n",
              "       [5, 6, 7, 8, 9]])"
            ]
          },
          "metadata": {
            "tags": []
          },
          "execution_count": 19
        }
      ]
    },
    {
      "cell_type": "code",
      "metadata": {
        "id": "B2Kmsf1LpzSW",
        "colab_type": "code",
        "colab": {}
      },
      "source": [
        "b=np.reshape(a,(2,-1))"
      ],
      "execution_count": null,
      "outputs": []
    },
    {
      "cell_type": "code",
      "metadata": {
        "id": "yJlLlxQ8p4Of",
        "colab_type": "code",
        "colab": {
          "base_uri": "https://localhost:8080/",
          "height": 53
        },
        "outputId": "3251a579-f8fe-4296-aaa2-fadba0bbd4f1"
      },
      "source": [
        "b"
      ],
      "execution_count": null,
      "outputs": [
        {
          "output_type": "execute_result",
          "data": {
            "text/plain": [
              "array([[0, 1, 2, 3, 4],\n",
              "       [5, 6, 7, 8, 9]])"
            ]
          },
          "metadata": {
            "tags": []
          },
          "execution_count": 21
        }
      ]
    },
    {
      "cell_type": "markdown",
      "metadata": {
        "id": "SAax9qT7R5Uh",
        "colab_type": "text"
      },
      "source": [
        "#8 Encontrando itens em comum entre dois arrays numpy (intersecção)"
      ]
    },
    {
      "cell_type": "code",
      "metadata": {
        "id": "pUmAD7FASDBz",
        "colab_type": "code",
        "colab": {}
      },
      "source": [
        "# Crie dois arrays com itens que se repitam\n",
        "a = np.arange(1,10)\n",
        "b = np.arange(8,14)"
      ],
      "execution_count": null,
      "outputs": []
    },
    {
      "cell_type": "code",
      "metadata": {
        "id": "sCgRWzb9CdVR",
        "colab_type": "code",
        "colab": {
          "base_uri": "https://localhost:8080/",
          "height": 35
        },
        "outputId": "b7c2c10b-8786-4bfd-e8c6-75b813d1147c"
      },
      "source": [
        "a"
      ],
      "execution_count": null,
      "outputs": [
        {
          "output_type": "execute_result",
          "data": {
            "text/plain": [
              "array([1, 2, 3, 4, 5, 6, 7, 8, 9])"
            ]
          },
          "metadata": {
            "tags": []
          },
          "execution_count": 4
        }
      ]
    },
    {
      "cell_type": "code",
      "metadata": {
        "id": "cXR7yXtsCfJ4",
        "colab_type": "code",
        "colab": {
          "base_uri": "https://localhost:8080/",
          "height": 35
        },
        "outputId": "5710f08d-d368-4e3f-d51e-a6237eedd915"
      },
      "source": [
        "b"
      ],
      "execution_count": null,
      "outputs": [
        {
          "output_type": "execute_result",
          "data": {
            "text/plain": [
              "array([ 8,  9, 10, 11, 12, 13])"
            ]
          },
          "metadata": {
            "tags": []
          },
          "execution_count": 5
        }
      ]
    },
    {
      "cell_type": "code",
      "metadata": {
        "id": "KvIfcX1xCCDZ",
        "colab_type": "code",
        "colab": {
          "base_uri": "https://localhost:8080/",
          "height": 35
        },
        "outputId": "9047afeb-da51-4041-a860-cafe28d4e691"
      },
      "source": [
        "# encontre os itens que se repetem\n",
        "np.intersect1d(a,b)"
      ],
      "execution_count": null,
      "outputs": [
        {
          "output_type": "execute_result",
          "data": {
            "text/plain": [
              "array([8, 9])"
            ]
          },
          "metadata": {
            "tags": []
          },
          "execution_count": 6
        }
      ]
    },
    {
      "cell_type": "markdown",
      "metadata": {
        "id": "J6A8qACyN_JR",
        "colab_type": "text"
      },
      "source": [
        "# 9 Removendo de um array itens que existem em outro array\n",
        "9.1 - Remova do array a os itens que existem no array *b*"
      ]
    },
    {
      "cell_type": "code",
      "metadata": {
        "id": "zmli1VyJOJFO",
        "colab_type": "code",
        "colab": {}
      },
      "source": [
        "# Arrays de entrada com números\n",
        "a = np.array([1,2,3,4,5])\n",
        "b = np.array([1,3,5])\n",
        "# Arrys de entrada com nomes\n",
        "c = np.array(['honda','fiat','toyota','ford'])\n",
        "d = np.array(['fiat','ford'])"
      ],
      "execution_count": 3,
      "outputs": []
    },
    {
      "cell_type": "code",
      "metadata": {
        "id": "lg2jFqqfQP14",
        "colab_type": "code",
        "colab": {
          "base_uri": "https://localhost:8080/",
          "height": 34
        },
        "outputId": "a605b32b-892d-4e8b-d3c5-88082653812d"
      },
      "source": [
        "np.setdiff1d(a,b)"
      ],
      "execution_count": 4,
      "outputs": [
        {
          "output_type": "execute_result",
          "data": {
            "text/plain": [
              "array([2, 4])"
            ]
          },
          "metadata": {
            "tags": []
          },
          "execution_count": 4
        }
      ]
    },
    {
      "cell_type": "code",
      "metadata": {
        "id": "7ZvPsRE6QksU",
        "colab_type": "code",
        "colab": {
          "base_uri": "https://localhost:8080/",
          "height": 34
        },
        "outputId": "67177168-e37b-47f6-dd71-e6b8c24fc91b"
      },
      "source": [
        "np.setdiff1d(c,d)"
      ],
      "execution_count": 5,
      "outputs": [
        {
          "output_type": "execute_result",
          "data": {
            "text/plain": [
              "array(['honda', 'toyota'], dtype='<U6')"
            ]
          },
          "metadata": {
            "tags": []
          },
          "execution_count": 5
        }
      ]
    },
    {
      "cell_type": "code",
      "metadata": {
        "id": "BaI2QDl1Qo2O",
        "colab_type": "code",
        "colab": {}
      },
      "source": [
        ""
      ],
      "execution_count": null,
      "outputs": []
    }
  ]
}