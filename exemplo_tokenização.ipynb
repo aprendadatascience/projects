{
  "nbformat": 4,
  "nbformat_minor": 0,
  "metadata": {
    "colab": {
      "name": "exemplo_tokenização.ipynb",
      "provenance": [],
      "authorship_tag": "ABX9TyNJ3lcYMjLEzhuG9Lf9i4kx",
      "include_colab_link": true
    },
    "kernelspec": {
      "name": "python3",
      "display_name": "Python 3"
    },
    "language_info": {
      "name": "python"
    }
  },
  "cells": [
    {
      "cell_type": "markdown",
      "metadata": {
        "id": "view-in-github",
        "colab_type": "text"
      },
      "source": [
        "<a href=\"https://colab.research.google.com/github/aprendadatascience/projects/blob/master/exemplo_tokeniza%C3%A7%C3%A3o.ipynb\" target=\"_parent\"><img src=\"https://colab.research.google.com/assets/colab-badge.svg\" alt=\"Open In Colab\"/></a>"
      ]
    },
    {
      "cell_type": "markdown",
      "metadata": {
        "id": "Id2xqYhx1MbB"
      },
      "source": [
        "##Exemplo de Tokenização"
      ]
    },
    {
      "cell_type": "code",
      "metadata": {
        "colab": {
          "base_uri": "https://localhost:8080/"
        },
        "id": "AkAbEEYp0BxR",
        "outputId": "aebf56e6-9420-456d-ce49-d164c7d2db58"
      },
      "source": [
        "!pip install nltk"
      ],
      "execution_count": 3,
      "outputs": [
        {
          "output_type": "stream",
          "text": [
            "Requirement already satisfied: nltk in /usr/local/lib/python3.7/dist-packages (3.2.5)\n",
            "Requirement already satisfied: six in /usr/local/lib/python3.7/dist-packages (from nltk) (1.15.0)\n"
          ],
          "name": "stdout"
        }
      ]
    },
    {
      "cell_type": "code",
      "metadata": {
        "colab": {
          "base_uri": "https://localhost:8080/"
        },
        "id": "NPXPzL4N0KUf",
        "outputId": "6fe2579a-1a4a-482a-d0ea-0a0dac8106e6"
      },
      "source": [
        "import nltk\n",
        "nltk.download('punkt')\n",
        "from nltk.tokenize import sent_tokenize,word_tokenize"
      ],
      "execution_count": 6,
      "outputs": [
        {
          "output_type": "stream",
          "text": [
            "[nltk_data] Downloading package punkt to /root/nltk_data...\n",
            "[nltk_data]   Package punkt is already up-to-date!\n"
          ],
          "name": "stdout"
        }
      ]
    },
    {
      "cell_type": "code",
      "metadata": {
        "id": "a5s9c43E0O5k"
      },
      "source": [
        "texto = \"Olá meus amigos! Que tal estudar sobre NLP hoje? São muitas as aplicações e oportunidades nessa área\""
      ],
      "execution_count": 12,
      "outputs": []
    },
    {
      "cell_type": "code",
      "metadata": {
        "colab": {
          "base_uri": "https://localhost:8080/"
        },
        "id": "vJq0-53i1ZHm",
        "outputId": "4699e77f-c19d-4860-a3b0-74c811c2f11e"
      },
      "source": [
        "print(sent_tokenize(texto))"
      ],
      "execution_count": 11,
      "outputs": [
        {
          "output_type": "stream",
          "text": [
            "['Olá meus amigos!', 'Que tal estudar sobre NLP hoje?', 'São muitas as aplicações e oportunidades nessa área']\n"
          ],
          "name": "stdout"
        }
      ]
    },
    {
      "cell_type": "code",
      "metadata": {
        "colab": {
          "base_uri": "https://localhost:8080/"
        },
        "id": "JpBMlbRg1V9Q",
        "outputId": "e4c1bb5e-8e6c-4fd8-b566-b24ea69309e3"
      },
      "source": [
        "print(word_tokenize(texto))"
      ],
      "execution_count": 13,
      "outputs": [
        {
          "output_type": "stream",
          "text": [
            "['Olá', 'meus', 'amigos', '!', 'Que', 'tal', 'estudar', 'sobre', 'NLP', 'hoje', '?', 'São', 'muitas', 'as', 'aplicações', 'e', 'oportunidades', 'nessa', 'área']\n"
          ],
          "name": "stdout"
        }
      ]
    }
  ]
}