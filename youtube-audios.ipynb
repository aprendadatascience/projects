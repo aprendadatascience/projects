{
  "nbformat": 4,
  "nbformat_minor": 0,
  "metadata": {
    "colab": {
      "name": "YouTube-audios.ipynb",
      "provenance": [],
      "authorship_tag": "ABX9TyO3h79NTd+DoJugnkLEhjHj",
      "include_colab_link": true
    },
    "kernelspec": {
      "name": "python3",
      "display_name": "Python 3"
    }
  },
  "cells": [
    {
      "cell_type": "markdown",
      "metadata": {
        "id": "view-in-github",
        "colab_type": "text"
      },
      "source": [
        "<a href=\"https://colab.research.google.com/github/aprendadatascience/projects/blob/master/youtube-audios.ipynb\" target=\"_parent\"><img src=\"https://colab.research.google.com/assets/colab-badge.svg\" alt=\"Open In Colab\"/></a>"
      ]
    },
    {
      "cell_type": "markdown",
      "metadata": {
        "id": "pVeG0HHt_XNv"
      },
      "source": [
        "## Instalar a biblioteca pafy e youtube_dl"
      ]
    },
    {
      "cell_type": "code",
      "metadata": {
        "id": "C9v3f0WWHcvD",
        "outputId": "ad5533c0-04a5-4055-816a-7082f008503c",
        "colab": {
          "base_uri": "https://localhost:8080/",
          "height": 105
        }
      },
      "source": [
        "!pip install pafy"
      ],
      "execution_count": 1,
      "outputs": [
        {
          "output_type": "stream",
          "text": [
            "Collecting pafy\n",
            "  Downloading https://files.pythonhosted.org/packages/74/69/829919eeadff695338f98fa12bb99e45490761a2010c8d688d88b6df194a/pafy-0.5.5-py2.py3-none-any.whl\n",
            "Installing collected packages: pafy\n",
            "Successfully installed pafy-0.5.5\n"
          ],
          "name": "stdout"
        }
      ]
    },
    {
      "cell_type": "code",
      "metadata": {
        "id": "rnDN6y7FH0v9",
        "outputId": "8cc3189d-dc9d-4bb5-e729-6bb8280d8d55",
        "colab": {
          "base_uri": "https://localhost:8080/",
          "height": 122
        }
      },
      "source": [
        "!pip install youtube_dl"
      ],
      "execution_count": 2,
      "outputs": [
        {
          "output_type": "stream",
          "text": [
            "Collecting youtube_dl\n",
            "\u001b[?25l  Downloading https://files.pythonhosted.org/packages/70/b4/c83b577bfb1be7c88dff10eecd70650eca7729b25135345108ea676e6f3b/youtube_dl-2020.9.20-py2.py3-none-any.whl (1.8MB)\n",
            "\r\u001b[K     |▏                               | 10kB 23.9MB/s eta 0:00:01\r\u001b[K     |▍                               | 20kB 5.0MB/s eta 0:00:01\r\u001b[K     |▌                               | 30kB 5.9MB/s eta 0:00:01\r\u001b[K     |▊                               | 40kB 5.8MB/s eta 0:00:01\r\u001b[K     |█                               | 51kB 5.2MB/s eta 0:00:01\r\u001b[K     |█                               | 61kB 5.8MB/s eta 0:00:01\r\u001b[K     |█▎                              | 71kB 6.5MB/s eta 0:00:01\r\u001b[K     |█▍                              | 81kB 7.3MB/s eta 0:00:01\r\u001b[K     |█▋                              | 92kB 7.3MB/s eta 0:00:01\r\u001b[K     |█▉                              | 102kB 7.4MB/s eta 0:00:01\r\u001b[K     |██                              | 112kB 7.4MB/s eta 0:00:01\r\u001b[K     |██▏                             | 122kB 7.4MB/s eta 0:00:01\r\u001b[K     |██▍                             | 133kB 7.4MB/s eta 0:00:01\r\u001b[K     |██▌                             | 143kB 7.4MB/s eta 0:00:01\r\u001b[K     |██▊                             | 153kB 7.4MB/s eta 0:00:01\r\u001b[K     |██▉                             | 163kB 7.4MB/s eta 0:00:01\r\u001b[K     |███                             | 174kB 7.4MB/s eta 0:00:01\r\u001b[K     |███▎                            | 184kB 7.4MB/s eta 0:00:01\r\u001b[K     |███▍                            | 194kB 7.4MB/s eta 0:00:01\r\u001b[K     |███▋                            | 204kB 7.4MB/s eta 0:00:01\r\u001b[K     |███▊                            | 215kB 7.4MB/s eta 0:00:01\r\u001b[K     |████                            | 225kB 7.4MB/s eta 0:00:01\r\u001b[K     |████▏                           | 235kB 7.4MB/s eta 0:00:01\r\u001b[K     |████▎                           | 245kB 7.4MB/s eta 0:00:01\r\u001b[K     |████▌                           | 256kB 7.4MB/s eta 0:00:01\r\u001b[K     |████▊                           | 266kB 7.4MB/s eta 0:00:01\r\u001b[K     |████▉                           | 276kB 7.4MB/s eta 0:00:01\r\u001b[K     |█████                           | 286kB 7.4MB/s eta 0:00:01\r\u001b[K     |█████▏                          | 296kB 7.4MB/s eta 0:00:01\r\u001b[K     |█████▍                          | 307kB 7.4MB/s eta 0:00:01\r\u001b[K     |█████▋                          | 317kB 7.4MB/s eta 0:00:01\r\u001b[K     |█████▊                          | 327kB 7.4MB/s eta 0:00:01\r\u001b[K     |██████                          | 337kB 7.4MB/s eta 0:00:01\r\u001b[K     |██████                          | 348kB 7.4MB/s eta 0:00:01\r\u001b[K     |██████▎                         | 358kB 7.4MB/s eta 0:00:01\r\u001b[K     |██████▌                         | 368kB 7.4MB/s eta 0:00:01\r\u001b[K     |██████▋                         | 378kB 7.4MB/s eta 0:00:01\r\u001b[K     |██████▉                         | 389kB 7.4MB/s eta 0:00:01\r\u001b[K     |███████                         | 399kB 7.4MB/s eta 0:00:01\r\u001b[K     |███████▏                        | 409kB 7.4MB/s eta 0:00:01\r\u001b[K     |███████▍                        | 419kB 7.4MB/s eta 0:00:01\r\u001b[K     |███████▌                        | 430kB 7.4MB/s eta 0:00:01\r\u001b[K     |███████▊                        | 440kB 7.4MB/s eta 0:00:01\r\u001b[K     |████████                        | 450kB 7.4MB/s eta 0:00:01\r\u001b[K     |████████                        | 460kB 7.4MB/s eta 0:00:01\r\u001b[K     |████████▎                       | 471kB 7.4MB/s eta 0:00:01\r\u001b[K     |████████▍                       | 481kB 7.4MB/s eta 0:00:01\r\u001b[K     |████████▋                       | 491kB 7.4MB/s eta 0:00:01\r\u001b[K     |████████▉                       | 501kB 7.4MB/s eta 0:00:01\r\u001b[K     |█████████                       | 512kB 7.4MB/s eta 0:00:01\r\u001b[K     |█████████▏                      | 522kB 7.4MB/s eta 0:00:01\r\u001b[K     |█████████▍                      | 532kB 7.4MB/s eta 0:00:01\r\u001b[K     |█████████▌                      | 542kB 7.4MB/s eta 0:00:01\r\u001b[K     |█████████▊                      | 552kB 7.4MB/s eta 0:00:01\r\u001b[K     |█████████▉                      | 563kB 7.4MB/s eta 0:00:01\r\u001b[K     |██████████                      | 573kB 7.4MB/s eta 0:00:01\r\u001b[K     |██████████▎                     | 583kB 7.4MB/s eta 0:00:01\r\u001b[K     |██████████▍                     | 593kB 7.4MB/s eta 0:00:01\r\u001b[K     |██████████▋                     | 604kB 7.4MB/s eta 0:00:01\r\u001b[K     |██████████▊                     | 614kB 7.4MB/s eta 0:00:01\r\u001b[K     |███████████                     | 624kB 7.4MB/s eta 0:00:01\r\u001b[K     |███████████▏                    | 634kB 7.4MB/s eta 0:00:01\r\u001b[K     |███████████▎                    | 645kB 7.4MB/s eta 0:00:01\r\u001b[K     |███████████▌                    | 655kB 7.4MB/s eta 0:00:01\r\u001b[K     |███████████▊                    | 665kB 7.4MB/s eta 0:00:01\r\u001b[K     |███████████▉                    | 675kB 7.4MB/s eta 0:00:01\r\u001b[K     |████████████                    | 686kB 7.4MB/s eta 0:00:01\r\u001b[K     |████████████▏                   | 696kB 7.4MB/s eta 0:00:01\r\u001b[K     |████████████▍                   | 706kB 7.4MB/s eta 0:00:01\r\u001b[K     |████████████▋                   | 716kB 7.4MB/s eta 0:00:01\r\u001b[K     |████████████▊                   | 727kB 7.4MB/s eta 0:00:01\r\u001b[K     |█████████████                   | 737kB 7.4MB/s eta 0:00:01\r\u001b[K     |█████████████                   | 747kB 7.4MB/s eta 0:00:01\r\u001b[K     |█████████████▎                  | 757kB 7.4MB/s eta 0:00:01\r\u001b[K     |█████████████▌                  | 768kB 7.4MB/s eta 0:00:01\r\u001b[K     |█████████████▋                  | 778kB 7.4MB/s eta 0:00:01\r\u001b[K     |█████████████▉                  | 788kB 7.4MB/s eta 0:00:01\r\u001b[K     |██████████████                  | 798kB 7.4MB/s eta 0:00:01\r\u001b[K     |██████████████▏                 | 808kB 7.4MB/s eta 0:00:01\r\u001b[K     |██████████████▍                 | 819kB 7.4MB/s eta 0:00:01\r\u001b[K     |██████████████▌                 | 829kB 7.4MB/s eta 0:00:01\r\u001b[K     |██████████████▊                 | 839kB 7.4MB/s eta 0:00:01\r\u001b[K     |███████████████                 | 849kB 7.4MB/s eta 0:00:01\r\u001b[K     |███████████████                 | 860kB 7.4MB/s eta 0:00:01\r\u001b[K     |███████████████▎                | 870kB 7.4MB/s eta 0:00:01\r\u001b[K     |███████████████▍                | 880kB 7.4MB/s eta 0:00:01\r\u001b[K     |███████████████▋                | 890kB 7.4MB/s eta 0:00:01\r\u001b[K     |███████████████▉                | 901kB 7.4MB/s eta 0:00:01\r\u001b[K     |████████████████                | 911kB 7.4MB/s eta 0:00:01\r\u001b[K     |████████████████▏               | 921kB 7.4MB/s eta 0:00:01\r\u001b[K     |████████████████▍               | 931kB 7.4MB/s eta 0:00:01\r\u001b[K     |████████████████▌               | 942kB 7.4MB/s eta 0:00:01\r\u001b[K     |████████████████▊               | 952kB 7.4MB/s eta 0:00:01\r\u001b[K     |████████████████▉               | 962kB 7.4MB/s eta 0:00:01\r\u001b[K     |█████████████████               | 972kB 7.4MB/s eta 0:00:01\r\u001b[K     |█████████████████▎              | 983kB 7.4MB/s eta 0:00:01\r\u001b[K     |█████████████████▍              | 993kB 7.4MB/s eta 0:00:01\r\u001b[K     |█████████████████▋              | 1.0MB 7.4MB/s eta 0:00:01\r\u001b[K     |█████████████████▊              | 1.0MB 7.4MB/s eta 0:00:01\r\u001b[K     |██████████████████              | 1.0MB 7.4MB/s eta 0:00:01\r\u001b[K     |██████████████████▏             | 1.0MB 7.4MB/s eta 0:00:01\r\u001b[K     |██████████████████▎             | 1.0MB 7.4MB/s eta 0:00:01\r\u001b[K     |██████████████████▌             | 1.1MB 7.4MB/s eta 0:00:01\r\u001b[K     |██████████████████▊             | 1.1MB 7.4MB/s eta 0:00:01\r\u001b[K     |██████████████████▉             | 1.1MB 7.4MB/s eta 0:00:01\r\u001b[K     |███████████████████             | 1.1MB 7.4MB/s eta 0:00:01\r\u001b[K     |███████████████████▏            | 1.1MB 7.4MB/s eta 0:00:01\r\u001b[K     |███████████████████▍            | 1.1MB 7.4MB/s eta 0:00:01\r\u001b[K     |███████████████████▋            | 1.1MB 7.4MB/s eta 0:00:01\r\u001b[K     |███████████████████▊            | 1.1MB 7.4MB/s eta 0:00:01\r\u001b[K     |████████████████████            | 1.1MB 7.4MB/s eta 0:00:01\r\u001b[K     |████████████████████            | 1.1MB 7.4MB/s eta 0:00:01\r\u001b[K     |████████████████████▎           | 1.2MB 7.4MB/s eta 0:00:01\r\u001b[K     |████████████████████▌           | 1.2MB 7.4MB/s eta 0:00:01\r\u001b[K     |████████████████████▋           | 1.2MB 7.4MB/s eta 0:00:01\r\u001b[K     |████████████████████▉           | 1.2MB 7.4MB/s eta 0:00:01\r\u001b[K     |█████████████████████           | 1.2MB 7.4MB/s eta 0:00:01\r\u001b[K     |█████████████████████▏          | 1.2MB 7.4MB/s eta 0:00:01\r\u001b[K     |█████████████████████▍          | 1.2MB 7.4MB/s eta 0:00:01\r\u001b[K     |█████████████████████▌          | 1.2MB 7.4MB/s eta 0:00:01\r\u001b[K     |█████████████████████▊          | 1.2MB 7.4MB/s eta 0:00:01\r\u001b[K     |██████████████████████          | 1.2MB 7.4MB/s eta 0:00:01\r\u001b[K     |██████████████████████          | 1.3MB 7.4MB/s eta 0:00:01\r\u001b[K     |██████████████████████▎         | 1.3MB 7.4MB/s eta 0:00:01\r\u001b[K     |██████████████████████▍         | 1.3MB 7.4MB/s eta 0:00:01\r\u001b[K     |██████████████████████▋         | 1.3MB 7.4MB/s eta 0:00:01\r\u001b[K     |██████████████████████▉         | 1.3MB 7.4MB/s eta 0:00:01\r\u001b[K     |███████████████████████         | 1.3MB 7.4MB/s eta 0:00:01\r\u001b[K     |███████████████████████▏        | 1.3MB 7.4MB/s eta 0:00:01\r\u001b[K     |███████████████████████▍        | 1.3MB 7.4MB/s eta 0:00:01\r\u001b[K     |███████████████████████▌        | 1.3MB 7.4MB/s eta 0:00:01\r\u001b[K     |███████████████████████▊        | 1.4MB 7.4MB/s eta 0:00:01\r\u001b[K     |███████████████████████▉        | 1.4MB 7.4MB/s eta 0:00:01\r\u001b[K     |████████████████████████        | 1.4MB 7.4MB/s eta 0:00:01\r\u001b[K     |████████████████████████▎       | 1.4MB 7.4MB/s eta 0:00:01\r\u001b[K     |████████████████████████▍       | 1.4MB 7.4MB/s eta 0:00:01\r\u001b[K     |████████████████████████▋       | 1.4MB 7.4MB/s eta 0:00:01\r\u001b[K     |████████████████████████▊       | 1.4MB 7.4MB/s eta 0:00:01\r\u001b[K     |█████████████████████████       | 1.4MB 7.4MB/s eta 0:00:01\r\u001b[K     |█████████████████████████▏      | 1.4MB 7.4MB/s eta 0:00:01\r\u001b[K     |█████████████████████████▎      | 1.4MB 7.4MB/s eta 0:00:01\r\u001b[K     |█████████████████████████▌      | 1.5MB 7.4MB/s eta 0:00:01\r\u001b[K     |█████████████████████████▊      | 1.5MB 7.4MB/s eta 0:00:01\r\u001b[K     |█████████████████████████▉      | 1.5MB 7.4MB/s eta 0:00:01\r\u001b[K     |██████████████████████████      | 1.5MB 7.4MB/s eta 0:00:01\r\u001b[K     |██████████████████████████▏     | 1.5MB 7.4MB/s eta 0:00:01\r\u001b[K     |██████████████████████████▍     | 1.5MB 7.4MB/s eta 0:00:01\r\u001b[K     |██████████████████████████▋     | 1.5MB 7.4MB/s eta 0:00:01\r\u001b[K     |██████████████████████████▊     | 1.5MB 7.4MB/s eta 0:00:01\r\u001b[K     |███████████████████████████     | 1.5MB 7.4MB/s eta 0:00:01\r\u001b[K     |███████████████████████████     | 1.5MB 7.4MB/s eta 0:00:01\r\u001b[K     |███████████████████████████▎    | 1.6MB 7.4MB/s eta 0:00:01\r\u001b[K     |███████████████████████████▌    | 1.6MB 7.4MB/s eta 0:00:01\r\u001b[K     |███████████████████████████▋    | 1.6MB 7.4MB/s eta 0:00:01\r\u001b[K     |███████████████████████████▉    | 1.6MB 7.4MB/s eta 0:00:01\r\u001b[K     |████████████████████████████    | 1.6MB 7.4MB/s eta 0:00:01\r\u001b[K     |████████████████████████████▏   | 1.6MB 7.4MB/s eta 0:00:01\r\u001b[K     |████████████████████████████▍   | 1.6MB 7.4MB/s eta 0:00:01\r\u001b[K     |████████████████████████████▌   | 1.6MB 7.4MB/s eta 0:00:01\r\u001b[K     |████████████████████████████▊   | 1.6MB 7.4MB/s eta 0:00:01\r\u001b[K     |█████████████████████████████   | 1.6MB 7.4MB/s eta 0:00:01\r\u001b[K     |█████████████████████████████   | 1.7MB 7.4MB/s eta 0:00:01\r\u001b[K     |█████████████████████████████▎  | 1.7MB 7.4MB/s eta 0:00:01\r\u001b[K     |█████████████████████████████▍  | 1.7MB 7.4MB/s eta 0:00:01\r\u001b[K     |█████████████████████████████▋  | 1.7MB 7.4MB/s eta 0:00:01\r\u001b[K     |█████████████████████████████▉  | 1.7MB 7.4MB/s eta 0:00:01\r\u001b[K     |██████████████████████████████  | 1.7MB 7.4MB/s eta 0:00:01\r\u001b[K     |██████████████████████████████▏ | 1.7MB 7.4MB/s eta 0:00:01\r\u001b[K     |██████████████████████████████▍ | 1.7MB 7.4MB/s eta 0:00:01\r\u001b[K     |██████████████████████████████▌ | 1.7MB 7.4MB/s eta 0:00:01\r\u001b[K     |██████████████████████████████▊ | 1.8MB 7.4MB/s eta 0:00:01\r\u001b[K     |██████████████████████████████▉ | 1.8MB 7.4MB/s eta 0:00:01\r\u001b[K     |███████████████████████████████ | 1.8MB 7.4MB/s eta 0:00:01\r\u001b[K     |███████████████████████████████▎| 1.8MB 7.4MB/s eta 0:00:01\r\u001b[K     |███████████████████████████████▍| 1.8MB 7.4MB/s eta 0:00:01\r\u001b[K     |███████████████████████████████▋| 1.8MB 7.4MB/s eta 0:00:01\r\u001b[K     |███████████████████████████████▊| 1.8MB 7.4MB/s eta 0:00:01\r\u001b[K     |████████████████████████████████| 1.8MB 7.4MB/s eta 0:00:01\r\u001b[K     |████████████████████████████████| 1.8MB 7.4MB/s \n",
            "\u001b[?25hInstalling collected packages: youtube-dl\n",
            "Successfully installed youtube-dl-2020.9.20\n"
          ],
          "name": "stdout"
        }
      ]
    },
    {
      "cell_type": "markdown",
      "metadata": {
        "id": "RMEW_Kxa_gIU"
      },
      "source": [
        "## Importar a pafy"
      ]
    },
    {
      "cell_type": "code",
      "metadata": {
        "id": "lK5k8X9EGogI"
      },
      "source": [
        "import pafy"
      ],
      "execution_count": 3,
      "outputs": []
    },
    {
      "cell_type": "markdown",
      "metadata": {
        "id": "asQb7oP4_ixo"
      },
      "source": [
        "## Definir a url do video alvo"
      ]
    },
    {
      "cell_type": "code",
      "metadata": {
        "id": "hjdx48ftHWev"
      },
      "source": [
        "url ='https://youtu.be/njKP3FqW3Sk'\n",
        "video = pafy.new(url)"
      ],
      "execution_count": 4,
      "outputs": []
    },
    {
      "cell_type": "markdown",
      "metadata": {
        "id": "wq4c8KdeYKJn"
      },
      "source": [
        "## Escolha qual arquivo deseja baixar e chame na lista audiostreams"
      ]
    },
    {
      "cell_type": "code",
      "metadata": {
        "id": "S8zhszOvIRt6",
        "outputId": "341e42ff-2108-4208-b439-39305fc0d7b7",
        "colab": {
          "base_uri": "https://localhost:8080/",
          "height": 102
        }
      },
      "source": [
        "audiostreams = video.audiostreams\n",
        "for i in audiostreams:\n",
        "    print(i.bitrate, i.extension, i.get_filesize() )\n",
        "\n",
        "audiostreams[0].download()"
      ],
      "execution_count": 5,
      "outputs": [
        {
          "output_type": "stream",
          "text": [
            "50k webm 19859539\n",
            "70k webm 21801239\n",
            "160k webm 39737052\n",
            "128k m4a 51324096\n",
            "\n"
          ],
          "name": "stdout"
        }
      ]
    },
    {
      "cell_type": "code",
      "metadata": {
        "id": "GfjNuetNI9da",
        "outputId": "92576965-7fca-4e19-f9c9-611f0407f3f8",
        "colab": {
          "base_uri": "https://localhost:8080/",
          "height": 34
        }
      },
      "source": [
        "print(audiostreams[0])"
      ],
      "execution_count": 6,
      "outputs": [
        {
          "output_type": "stream",
          "text": [
            "audio:webm@50k\n"
          ],
          "name": "stdout"
        }
      ]
    },
    {
      "cell_type": "markdown",
      "metadata": {
        "id": "_exZib1yYQqB"
      },
      "source": [
        "### Escolhi o primeiro pois queria o arquivo com menor bitrate"
      ]
    },
    {
      "cell_type": "code",
      "metadata": {
        "id": "6-exQmUIAL3w"
      },
      "source": [
        ""
      ],
      "execution_count": null,
      "outputs": []
    }
  ]
}