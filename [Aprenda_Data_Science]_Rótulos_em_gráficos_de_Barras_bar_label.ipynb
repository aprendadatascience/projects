{
  "nbformat": 4,
  "nbformat_minor": 0,
  "metadata": {
    "colab": {
      "name": "[Aprenda Data Science] Rótulos em gráficos de Barras - bar_label.ipynb",
      "provenance": [],
      "authorship_tag": "ABX9TyPKixV9yDS2i5PFkUQ4ol58",
      "include_colab_link": true
    },
    "kernelspec": {
      "name": "python3",
      "display_name": "Python 3"
    },
    "language_info": {
      "name": "python"
    }
  },
  "cells": [
    {
      "cell_type": "markdown",
      "metadata": {
        "id": "view-in-github",
        "colab_type": "text"
      },
      "source": [
        "<a href=\"https://colab.research.google.com/github/aprendadatascience/projects/blob/master/%5BAprenda_Data_Science%5D_R%C3%B3tulos_em_gr%C3%A1ficos_de_Barras_bar_label.ipynb\" target=\"_parent\"><img src=\"https://colab.research.google.com/assets/colab-badge.svg\" alt=\"Open In Colab\"/></a>"
      ]
    },
    {
      "cell_type": "code",
      "source": [
        "!pip show matplotlib"
      ],
      "metadata": {
        "colab": {
          "base_uri": "https://localhost:8080/"
        },
        "id": "MtK86M-oY5jO",
        "outputId": "4350cce8-691b-41ea-80b7-81502bd05bdc"
      },
      "execution_count": 1,
      "outputs": [
        {
          "output_type": "stream",
          "name": "stdout",
          "text": [
            "Name: matplotlib\n",
            "Version: 3.2.2\n",
            "Summary: Python plotting package\n",
            "Home-page: https://matplotlib.org\n",
            "Author: John D. Hunter, Michael Droettboom\n",
            "Author-email: matplotlib-users@python.org\n",
            "License: PSF\n",
            "Location: /usr/local/lib/python3.7/dist-packages\n",
            "Requires: kiwisolver, numpy, cycler, pyparsing, python-dateutil\n",
            "Required-by: yellowbrick, seaborn, scikit-image, pycocotools, plotnine, pandas-profiling, mlxtend, mizani, missingno, matplotlib-venn, keras-vis, imgaug, fbprophet, fastai, descartes, daft, arviz\n"
          ]
        }
      ]
    },
    {
      "cell_type": "code",
      "source": [
        "!pip install matplotlib==3.5.2"
      ],
      "metadata": {
        "colab": {
          "base_uri": "https://localhost:8080/",
          "height": 540
        },
        "id": "iGMzBi3DHzSA",
        "outputId": "b20d9a5f-a04e-48a0-c08e-60de1a5348e1"
      },
      "execution_count": 2,
      "outputs": [
        {
          "output_type": "stream",
          "name": "stdout",
          "text": [
            "Looking in indexes: https://pypi.org/simple, https://us-python.pkg.dev/colab-wheels/public/simple/\n",
            "Collecting matplotlib==3.5.2\n",
            "  Downloading matplotlib-3.5.2-cp37-cp37m-manylinux_2_5_x86_64.manylinux1_x86_64.whl (11.2 MB)\n",
            "\u001b[K     |████████████████████████████████| 11.2 MB 25.4 MB/s \n",
            "\u001b[?25hRequirement already satisfied: pyparsing>=2.2.1 in /usr/local/lib/python3.7/dist-packages (from matplotlib==3.5.2) (3.0.9)\n",
            "Requirement already satisfied: python-dateutil>=2.7 in /usr/local/lib/python3.7/dist-packages (from matplotlib==3.5.2) (2.8.2)\n",
            "Requirement already satisfied: packaging>=20.0 in /usr/local/lib/python3.7/dist-packages (from matplotlib==3.5.2) (21.3)\n",
            "Requirement already satisfied: kiwisolver>=1.0.1 in /usr/local/lib/python3.7/dist-packages (from matplotlib==3.5.2) (1.4.3)\n",
            "Requirement already satisfied: numpy>=1.17 in /usr/local/lib/python3.7/dist-packages (from matplotlib==3.5.2) (1.21.6)\n",
            "Requirement already satisfied: pillow>=6.2.0 in /usr/local/lib/python3.7/dist-packages (from matplotlib==3.5.2) (7.1.2)\n",
            "Collecting fonttools>=4.22.0\n",
            "  Downloading fonttools-4.33.3-py3-none-any.whl (930 kB)\n",
            "\u001b[K     |████████████████████████████████| 930 kB 52.6 MB/s \n",
            "\u001b[?25hRequirement already satisfied: cycler>=0.10 in /usr/local/lib/python3.7/dist-packages (from matplotlib==3.5.2) (0.11.0)\n",
            "Requirement already satisfied: typing-extensions in /usr/local/lib/python3.7/dist-packages (from kiwisolver>=1.0.1->matplotlib==3.5.2) (4.1.1)\n",
            "Requirement already satisfied: six>=1.5 in /usr/local/lib/python3.7/dist-packages (from python-dateutil>=2.7->matplotlib==3.5.2) (1.15.0)\n",
            "Installing collected packages: fonttools, matplotlib\n",
            "  Attempting uninstall: matplotlib\n",
            "    Found existing installation: matplotlib 3.2.2\n",
            "    Uninstalling matplotlib-3.2.2:\n",
            "      Successfully uninstalled matplotlib-3.2.2\n",
            "\u001b[31mERROR: pip's dependency resolver does not currently take into account all the packages that are installed. This behaviour is the source of the following dependency conflicts.\n",
            "albumentations 0.1.12 requires imgaug<0.2.7,>=0.2.5, but you have imgaug 0.2.9 which is incompatible.\u001b[0m\n",
            "Successfully installed fonttools-4.33.3 matplotlib-3.5.2\n"
          ]
        },
        {
          "output_type": "display_data",
          "data": {
            "application/vnd.colab-display-data+json": {
              "pip_warning": {
                "packages": [
                  "matplotlib",
                  "mpl_toolkits"
                ]
              }
            }
          },
          "metadata": {}
        }
      ]
    },
    {
      "cell_type": "code",
      "execution_count": 1,
      "metadata": {
        "id": "cBFDApTQHWiA"
      },
      "outputs": [],
      "source": [
        "import matplotlib.pyplot as plt\n",
        "import numpy as np"
      ]
    },
    {
      "cell_type": "markdown",
      "source": [
        "##1- Barras Agrupadas"
      ],
      "metadata": {
        "id": "7Bz_v6SBLDHV"
      }
    },
    {
      "cell_type": "code",
      "source": [
        "#Dados\n",
        "grupos = ['G1', 'G2', 'G3', 'G4', 'G5']\n",
        "media_homens = [20, 34, 30, 35, 27]\n",
        "media_mulheres = [25, 32, 34, 20, 25]\n",
        "\n",
        "x = np.arange(len(grupos))\n",
        "largura = 0.35\n",
        "fig, ax = plt.subplots()\n",
        "\n",
        "bar_label_h= ax.bar(x - largura/2, media_homens, largura, label='Homens')\n",
        "bar_label_m=ax.bar(x + largura/2, media_mulheres, largura, label='Mulheres')\n",
        "ax.bar_label(bar_label_h)\n",
        "ax.bar_label(bar_label_m)\n",
        "\n",
        "ax.set_ylabel('Pontuação')\n",
        "ax.set_title('Pontuação por grupo e gênero')\n",
        "ax.set_xticks(x, grupos)\n",
        "ax.legend()\n",
        "plt.show()"
      ],
      "metadata": {
        "colab": {
          "base_uri": "https://localhost:8080/",
          "height": 281
        },
        "id": "a16c61S7HZIL",
        "outputId": "0ba895c1-c8fa-4ae4-f7b4-7d025daf7dc8"
      },
      "execution_count": 8,
      "outputs": [
        {
          "output_type": "display_data",
          "data": {
            "text/plain": [
              "<Figure size 432x288 with 1 Axes>"
            ],
            "image/png": "[encoded data removed]"
          },
          "metadata": {
            "needs_background": "light"
          }
        }
      ]
    },
    {
      "cell_type": "markdown",
      "source": [
        "##2- Barras Empilhadas"
      ],
      "metadata": {
        "id": "Rg5Cw_i4LJql"
      }
    },
    {
      "cell_type": "code",
      "source": [
        "N_barras = 5\n",
        "homens= (20, 35, 30, 35, -27)\n",
        "mulheres = (25, 32, 34, 20, -25)\n",
        "hStd = (2, 3, 4, 1, 2)\n",
        "mStd = (3, 5, 2, 3, 3)\n",
        "ind = np.arange(N)\n",
        "largura = 0.35"
      ],
      "metadata": {
        "id": "V6i7jtPNHeV3"
      },
      "execution_count": 2,
      "outputs": []
    },
    {
      "cell_type": "code",
      "source": [
        "fig, ax = plt.subplots()\n",
        "\n",
        "p1 = ax.bar(ind, homens, largura, yerr=hStd, label='Homens')\n",
        "p2 = ax.bar(ind, mulheres, largura, bottom=homens, \n",
        "            yerr=mStd, label='Mulheres')\n",
        "ax.bar_label(p1, label_type='center')\n",
        "ax.bar_label(p2, label_type='center')\n",
        "ax.bar_label(p2)\n",
        "\n",
        "\n",
        "ax.axhline(0, color='grey', linewidth=0.8)\n",
        "ax.set_ylabel('Pontução')\n",
        "ax.set_title('Pontuação por grupo e gênero')\n",
        "ax.set_xticks(ind, labels=['G1', 'G2', 'G3', 'G4', 'G5'])\n",
        "ax.legend()\n",
        "\n",
        "ax.set_ylim(top=80)\n",
        "\n",
        "plt.show()"
      ],
      "metadata": {
        "colab": {
          "base_uri": "https://localhost:8080/",
          "height": 281
        },
        "id": "fNl3lvldLQYp",
        "outputId": "a40ec52d-a63c-44ab-dd89-edb426a73c79"
      },
      "execution_count": 12,
      "outputs": [
        {
          "output_type": "display_data",
          "data": {
            "text/plain": [
              "<Figure size 432x288 with 1 Axes>"
            ],
            "image/png": "[encoded data removed]"
          },
          "metadata": {
            "needs_background": "light"
          }
        }
      ]
    },
    {
      "cell_type": "code",
      "source": [
        ""
      ],
      "metadata": {
        "id": "nrM0SZmfm8DI"
      },
      "execution_count": null,
      "outputs": []
    }
  ]
}