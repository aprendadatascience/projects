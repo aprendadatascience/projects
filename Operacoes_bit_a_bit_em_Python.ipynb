{
  "nbformat": 4,
  "nbformat_minor": 0,
  "metadata": {
    "colab": {
      "name": "Operacoes_bit_a_bit_em_Python.ipynb",
      "provenance": [],
      "authorship_tag": "ABX9TyPrlULgt7M1jaCvjb3jQxhX",
      "include_colab_link": true
    },
    "kernelspec": {
      "name": "python3",
      "display_name": "Python 3"
    },
    "language_info": {
      "name": "python"
    }
  },
  "cells": [
    {
      "cell_type": "markdown",
      "metadata": {
        "id": "view-in-github",
        "colab_type": "text"
      },
      "source": [
        "<a href=\"https://colab.research.google.com/github/aprendadatascience/projects/blob/master/Operacoes_bit_a_bit_em_Python.ipynb\" target=\"_parent\"><img src=\"https://colab.research.google.com/assets/colab-badge.svg\" alt=\"Open In Colab\"/></a>"
      ]
    },
    {
      "cell_type": "markdown",
      "metadata": {
        "id": "2XUaDedZR6pS"
      },
      "source": [
        "# Operações Bit a Bit (bitwise) utilizando Python"
      ]
    },
    {
      "cell_type": "markdown",
      "metadata": {
        "id": "b34u5eajR_p-"
      },
      "source": [
        "### Definição de variáveis a,b e c"
      ]
    },
    {
      "cell_type": "code",
      "metadata": {
        "id": "7rZTiXYviF1i"
      },
      "source": [
        "a = 60            # 60 = 0011 1100 \n",
        "b = 13            # 13 = 0000 1101 \n",
        "c = 0"
      ],
      "execution_count": 12,
      "outputs": []
    },
    {
      "cell_type": "markdown",
      "metadata": {
        "id": "nr1AX4rGSEV9"
      },
      "source": [
        "### AND Bit-a-Bit => Simbolo &"
      ]
    },
    {
      "cell_type": "code",
      "metadata": {
        "colab": {
          "base_uri": "https://localhost:8080/"
        },
        "id": "IfjU2d6Jh78b",
        "outputId": "09a317ba-a032-45d1-8a63-30de35caabf3"
      },
      "source": [
        "# 60 = 0011 1100\n",
        "# 13 = 0000 1101\n",
        "# 12 = 0000 1100\n",
        "c = a & b;        # 12 = 0000 1100\n",
        "print (\"Ex 1: O valor de C é:\", c)"
      ],
      "execution_count": 13,
      "outputs": [
        {
          "output_type": "stream",
          "text": [
            "Ex 1: O valor de C é: 12\n"
          ],
          "name": "stdout"
        }
      ]
    },
    {
      "cell_type": "markdown",
      "metadata": {
        "id": "7DhQKZhzSUtT"
      },
      "source": [
        "### OR Bit-a-Bit => Simbolo |"
      ]
    },
    {
      "cell_type": "code",
      "metadata": {
        "colab": {
          "base_uri": "https://localhost:8080/"
        },
        "id": "pmjSWaWUiBpj",
        "outputId": "7e5bea75-6b74-4dac-fd87-849bd21956c8"
      },
      "source": [
        "# 60 = 0011 1100\n",
        "# 13 = 0000 1101\n",
        "# 61 = 0011 1101 \n",
        "c = a | b;        \n",
        "print(\"Ex 2 - O valor de C é:\", c)"
      ],
      "execution_count": 14,
      "outputs": [
        {
          "output_type": "stream",
          "text": [
            "Ex 2 - O valor de C é: 61\n"
          ],
          "name": "stdout"
        }
      ]
    },
    {
      "cell_type": "markdown",
      "metadata": {
        "id": "lTR4IoL0SjyL"
      },
      "source": [
        "### OR Exclusivo(XOR) Bit-a-Bit => Simbolo ˆ"
      ]
    },
    {
      "cell_type": "code",
      "metadata": {
        "colab": {
          "base_uri": "https://localhost:8080/"
        },
        "id": "CHtLmATfiSH6",
        "outputId": "cee3d514-55c5-4768-e128-6b38331812e5"
      },
      "source": [
        "# 60 = 0011 1100\n",
        "# 13 = 0000 1101\n",
        "# 49 = 0011 0001\n",
        "c = a ^ b;        # 49 = 0011 0001\n",
        "print(\"Ex 3 - O valor de C é: \", c)"
      ],
      "execution_count": 15,
      "outputs": [
        {
          "output_type": "stream",
          "text": [
            "Ex 3 - O valor de C é:  49\n"
          ],
          "name": "stdout"
        }
      ]
    },
    {
      "cell_type": "markdown",
      "metadata": {
        "id": "JTviMt6pS0DH"
      },
      "source": [
        "### Complemento de 1 => Simbolo ~"
      ]
    },
    {
      "cell_type": "code",
      "metadata": {
        "colab": {
          "base_uri": "https://localhost:8080/"
        },
        "id": "AAs9ix--ia9v",
        "outputId": "a651f221-4edb-462e-8417-f9927970756c"
      },
      "source": [
        "# 60 = 11 1100\n",
        "# ~a = ~(11 1100 + 1 ) -> ~(11 1101) -> -61\n",
        "# primeiro bit com valor 1 representa número negativo.\n",
        "# os demais valem 61 100 0011 => ( 1*2ˆ6+1*2+1*1= )\n",
        "c = ~a;           # -61 = 1100 0011\n",
        "print(\"Ex 4 - O valor de C é:\", c)"
      ],
      "execution_count": 16,
      "outputs": [
        {
          "output_type": "stream",
          "text": [
            "Ex 4 - O valor de C é: -61\n"
          ],
          "name": "stdout"
        }
      ]
    },
    {
      "cell_type": "markdown",
      "metadata": {
        "id": "FSffzWGUS84K"
      },
      "source": [
        "### Deslocamento(shift) p/ esquerda => Simbolo <<"
      ]
    },
    {
      "cell_type": "code",
      "metadata": {
        "colab": {
          "base_uri": "https://localhost:8080/"
        },
        "id": "DNQZJT2Higdb",
        "outputId": "092efc04-80ae-4a5b-8017-7dcd2b6a4369"
      },
      "source": [
        "# 60 = 0011 1100\n",
        "#      0111 100-    deslocamento de 1 posição.\n",
        "#      1111 00--    deslocamento de 2 posição.\n",
        "# Os bits a direita são preenchido com Zero.\n",
        "\n",
        "c = a << 2;       # 240 = 1111 0000\n",
        "print(\"Ex 5 - O valor de C é:\", c)"
      ],
      "execution_count": 17,
      "outputs": [
        {
          "output_type": "stream",
          "text": [
            "Ex 5 - O valor de C é: 240\n"
          ],
          "name": "stdout"
        }
      ]
    },
    {
      "cell_type": "markdown",
      "metadata": {
        "id": "hr1L4b9NTE4r"
      },
      "source": [
        "### Deslocamento(shift) p/ direita => Simbolo >>"
      ]
    },
    {
      "cell_type": "code",
      "metadata": {
        "colab": {
          "base_uri": "https://localhost:8080/"
        },
        "id": "uSLmkkwoikuV",
        "outputId": "25b02326-9389-4df9-cee2-9fed1c591888"
      },
      "source": [
        "# 60 = 0011 1100\n",
        "#      -001 1110    deslocamento de 1 posição.\n",
        "#      --00 1111    deslocamento de 2 posição.\n",
        "# Os bits a esquerda são preenchido com Zero.\n",
        "c = a >> 2;       # 15 = 0000 1111\n",
        "print(\"Ex 6 - O valor de C é:\", c)"
      ],
      "execution_count": 18,
      "outputs": [
        {
          "output_type": "stream",
          "text": [
            "Ex 6 - O valor de C é: 15\n"
          ],
          "name": "stdout"
        }
      ]
    }
  ]
}