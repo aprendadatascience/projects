{
  "nbformat": 4,
  "nbformat_minor": 0,
  "metadata": {
    "colab": {
      "name": "6_principais_metodos_listas.ipynb",
      "provenance": [],
      "authorship_tag": "ABX9TyO1Ml+6IVmv7c85hammyFSw",
      "include_colab_link": true
    },
    "kernelspec": {
      "name": "python3",
      "display_name": "Python 3"
    },
    "language_info": {
      "name": "python"
    }
  },
  "cells": [
    {
      "cell_type": "markdown",
      "metadata": {
        "id": "view-in-github",
        "colab_type": "text"
      },
      "source": [
        "<a href=\"https://colab.research.google.com/github/aprendadatascience/projects/blob/master/6_principais_metodos_listas.ipynb\" target=\"_parent\"><img src=\"https://colab.research.google.com/assets/colab-badge.svg\" alt=\"Open In Colab\"/></a>"
      ]
    },
    {
      "cell_type": "markdown",
      "metadata": {
        "id": "cct4kxMxH2r6"
      },
      "source": [
        "## 6 principais métodos para trabalhar com listas\n",
        "Para mais conteúdo acesse www.aprendadatascience.com ou através do www.instagram.com/aprendadatascience"
      ]
    },
    {
      "cell_type": "markdown",
      "metadata": {
        "id": "gUGR293QIGq0"
      },
      "source": [
        "### 0.1 - Primeiramente vamos criar algumas listas"
      ]
    },
    {
      "cell_type": "code",
      "metadata": {
        "id": "QG2yZ2fJOrNQ"
      },
      "source": [
        "#listas de inteiros\n",
        "primos = [2, 3, 5, 7, 11]\n",
        "\n",
        "#lista de strings\n",
        "frutas = ['maçã', 'uva', 'laranja', 'mamão'] \n",
        "\n",
        "#lista de bools\n",
        "resultados = [True, False, False, False, True]\n",
        "\n",
        "#lista aleatória com elementos diversos\n",
        "lista_mix = ['cerveja', 4, '11/03/2010', True, [2,4,8], 'Ferrari']"
      ],
      "execution_count": null,
      "outputs": []
    },
    {
      "cell_type": "markdown",
      "metadata": {
        "id": "irgd-vQgIMoN"
      },
      "source": [
        "### 0.2 - Vamos aprender a acessar os elementos e até a modificá-los\n",
        "Listas são estruturas de dados mutáveis, ao contrário das tuplas."
      ]
    },
    {
      "cell_type": "code",
      "metadata": {
        "colab": {
          "base_uri": "https://localhost:8080/"
        },
        "id": "v1Qc9K-gQE-i",
        "outputId": "c1725ee4-34a1-43c4-ba84-d928cecd379f"
      },
      "source": [
        "print(primos[0])"
      ],
      "execution_count": null,
      "outputs": [
        {
          "output_type": "stream",
          "text": [
            "2\n"
          ],
          "name": "stdout"
        }
      ]
    },
    {
      "cell_type": "code",
      "metadata": {
        "colab": {
          "base_uri": "https://localhost:8080/"
        },
        "id": "4JT0pKT5QJia",
        "outputId": "63d00f44-eacb-4abd-95d5-d3d7ac6f350e"
      },
      "source": [
        "print(primos[0:3])\n",
        "print(primos[:3])"
      ],
      "execution_count": null,
      "outputs": [
        {
          "output_type": "stream",
          "text": [
            "[2, 3, 5]\n",
            "[2, 3, 5]\n"
          ],
          "name": "stdout"
        }
      ]
    },
    {
      "cell_type": "code",
      "metadata": {
        "colab": {
          "base_uri": "https://localhost:8080/"
        },
        "id": "VbHIHFxhQPXz",
        "outputId": "977e1321-e077-4315-d4a6-768e3cb55723"
      },
      "source": [
        "print('Antes de alterar',frutas)\n",
        "frutas[3]='banana'\n",
        "print('depois de alterar',frutas)"
      ],
      "execution_count": null,
      "outputs": [
        {
          "output_type": "stream",
          "text": [
            "Antes de alterar ['maçã', 'uva', 'laranja', 'mamão']\n",
            "depois de alterar ['maçã', 'uva', 'laranja', 'banana']\n"
          ],
          "name": "stdout"
        }
      ]
    },
    {
      "cell_type": "code",
      "metadata": {
        "colab": {
          "base_uri": "https://localhost:8080/",
          "height": 35
        },
        "id": "XhaJtyZrQhZb",
        "outputId": "766f74aa-72bc-4dcc-d1cf-b3f117cf477b"
      },
      "source": [
        "frutas[-2]"
      ],
      "execution_count": null,
      "outputs": [
        {
          "output_type": "execute_result",
          "data": {
            "application/vnd.google.colaboratory.intrinsic+json": {
              "type": "string"
            },
            "text/plain": [
              "'laranja'"
            ]
          },
          "metadata": {
            "tags": []
          },
          "execution_count": 7
        }
      ]
    },
    {
      "cell_type": "code",
      "metadata": {
        "colab": {
          "base_uri": "https://localhost:8080/"
        },
        "id": "WeDdufvoQlb8",
        "outputId": "52b2561a-4d91-468e-dac5-f4d7d6d600b3"
      },
      "source": [
        "frutas[-3:]"
      ],
      "execution_count": null,
      "outputs": [
        {
          "output_type": "execute_result",
          "data": {
            "text/plain": [
              "['uva', 'laranja', 'banana']"
            ]
          },
          "metadata": {
            "tags": []
          },
          "execution_count": 8
        }
      ]
    },
    {
      "cell_type": "code",
      "metadata": {
        "colab": {
          "base_uri": "https://localhost:8080/"
        },
        "id": "WVwTd1PYVL_C",
        "outputId": "110d7229-ffff-4427-9a55-0c9130a29851"
      },
      "source": [
        "cubos = [1, 8, 27, 65, 125]  \n",
        "# O cubo de 4 é 64 e não 65, vamos corrigir\n",
        "cubos[3] = 64  # substitui o valor incorreto\n",
        "\n",
        "print(cubos)"
      ],
      "execution_count": null,
      "outputs": [
        {
          "output_type": "stream",
          "text": [
            "[1, 8, 27, 64, 125]\n"
          ],
          "name": "stdout"
        }
      ]
    },
    {
      "cell_type": "markdown",
      "metadata": {
        "id": "g56Q-252IW3E"
      },
      "source": [
        "### 0.3 - O que é o slicing e o como contatenar com o operador +"
      ]
    },
    {
      "cell_type": "code",
      "metadata": {
        "colab": {
          "base_uri": "https://localhost:8080/"
        },
        "id": "-3TPxWTEQq96",
        "outputId": "c43c3bde-dd7e-4bdb-e408-ad44028de56c"
      },
      "source": [
        "nova_lista= primos[:2] + frutas[1:3]\n",
        "print(nova_lista)"
      ],
      "execution_count": null,
      "outputs": [
        {
          "output_type": "stream",
          "text": [
            "[2, 3, 'uva', 'laranja']\n"
          ],
          "name": "stdout"
        }
      ]
    },
    {
      "cell_type": "code",
      "metadata": {
        "colab": {
          "base_uri": "https://localhost:8080/",
          "height": 35
        },
        "id": "tfe-BrKNRy9h",
        "outputId": "541f932e-cc30-48f0-b0d5-ad6953853932"
      },
      "source": [
        "nova_lista[2]"
      ],
      "execution_count": null,
      "outputs": [
        {
          "output_type": "execute_result",
          "data": {
            "application/vnd.google.colaboratory.intrinsic+json": {
              "type": "string"
            },
            "text/plain": [
              "'uva'"
            ]
          },
          "metadata": {
            "tags": []
          },
          "execution_count": 10
        }
      ]
    },
    {
      "cell_type": "markdown",
      "metadata": {
        "id": "M82q3AMCUT2V"
      },
      "source": [
        "## Vamos ver os 6 métodos que separamos:"
      ]
    },
    {
      "cell_type": "markdown",
      "metadata": {
        "id": "CnZJgbmMId50"
      },
      "source": [
        "###1- Método append\n",
        "1. list.append(x) <br>\n",
        "O método append adiciona um item ao final da lista. É o equivalente a a[len(a):] = [x]. <br> Esse método só adiciona um elemento por vez, para adicionar mais de um elemento precisamos utilizar um loop."
      ]
    },
    {
      "cell_type": "code",
      "metadata": {
        "colab": {
          "base_uri": "https://localhost:8080/"
        },
        "id": "h0gFFigeVDdx",
        "outputId": "80eef163-4bfd-4528-9f08-6f6c502fa413"
      },
      "source": [
        "cubos.append(216)  # adiciona o cubo de 6 \n",
        "cubos.append(7 ** 3)  # adiciona o cubo de 7\n",
        "print(cubos)"
      ],
      "execution_count": null,
      "outputs": [
        {
          "output_type": "stream",
          "text": [
            "[1, 8, 27, 64, 125, 216, 343]\n"
          ],
          "name": "stdout"
        }
      ]
    },
    {
      "cell_type": "code",
      "metadata": {
        "colab": {
          "base_uri": "https://localhost:8080/"
        },
        "id": "ye343TcCVTw0",
        "outputId": "f904c2f9-e7eb-4013-ac50-f241b2cb4c40"
      },
      "source": [
        "# lista de animais\n",
        "animais = ['gato', 'cão', 'cavalo']\n",
        "\n",
        "# porco é adicionao ao final da lista\n",
        "animais.append('porco')\n",
        "\n",
        "# lista atualizada\n",
        "print('Lista atualizada: ', animais)"
      ],
      "execution_count": null,
      "outputs": [
        {
          "output_type": "stream",
          "text": [
            "Lista atualizada:  ['gato', 'cão', 'cavalo', 'porco']\n"
          ],
          "name": "stdout"
        }
      ]
    },
    {
      "cell_type": "code",
      "metadata": {
        "colab": {
          "base_uri": "https://localhost:8080/"
        },
        "id": "pTABN_vmRH3l",
        "outputId": "153a5de4-086d-4190-ac47-7260284534ae"
      },
      "source": [
        "animais.append(['tigre', 'raposa'])\n",
        "print(animais)"
      ],
      "execution_count": null,
      "outputs": [
        {
          "output_type": "stream",
          "text": [
            "['gato', 'cão', 'cavalo', 'porco', ['tigre', 'raposa']]\n"
          ],
          "name": "stdout"
        }
      ]
    },
    {
      "cell_type": "markdown",
      "metadata": {
        "id": "QgU4e2DdIjvD"
      },
      "source": [
        "### 2 - Método extend <br>\n",
        "O método extend também serve para adicionar mais elementos a uma lista. <br> Seria o equivalente a a[len(a):] = iterable . Vejam o exemplo anterior se tivéssemos utilizado o método extend:"
      ]
    },
    {
      "cell_type": "code",
      "metadata": {
        "colab": {
          "base_uri": "https://localhost:8080/"
        },
        "id": "yhWpdfwEVh6J",
        "outputId": "9961ed12-c7fc-4fc0-f038-1c794c76a61c"
      },
      "source": [
        "# Lista de animais\n",
        "animais = ['gato', 'cão', 'cavalos']\n",
        "\n",
        "# Lista de animais selvagens\n",
        "selvagens = ['tigre', 'raposa']\n",
        "\n",
        "# adicionando a lista de animais selvagens na lista padrão.\n",
        "animais.extend(selvagens)\n",
        "\n",
        "print(animais)"
      ],
      "execution_count": null,
      "outputs": [
        {
          "output_type": "stream",
          "text": [
            "['gato', 'cão', 'cavalos', 'tigre', 'raposa']\n"
          ],
          "name": "stdout"
        }
      ]
    },
    {
      "cell_type": "code",
      "metadata": {
        "colab": {
          "base_uri": "https://localhost:8080/"
        },
        "id": "8xQlrBoEVohZ",
        "outputId": "88f8f863-9dd2-4674-ddd2-f11459a54244"
      },
      "source": [
        "# variável texto com o animail macaco armazenado\n",
        "texto = 'macaco'\n",
        "# Lista de animais\n",
        "animais = ['gato', 'cão', 'cavalos']\n",
        "\n",
        "# adicionando a palavra macaco a lista animais\n",
        "animais.extend(texto)\n",
        "\n",
        "print(animais)"
      ],
      "execution_count": null,
      "outputs": [
        {
          "output_type": "stream",
          "text": [
            "['gato', 'cão', 'cavalos', 'm', 'a', 'c', 'a', 'c', 'o']\n"
          ],
          "name": "stdout"
        }
      ]
    },
    {
      "cell_type": "markdown",
      "metadata": {
        "id": "LJ4hLpy1Il0V"
      },
      "source": [
        "### 3- Método insert <br>\n",
        "O método insert insere um item em uma determinada posição da lista. <br> O primeiro argumento é o índice do elemento anterior a inserção, o segundo é o elemento propriamente dito. Portanto, a.insert(0, x)irá inserir o elemento x no início da lista. Já o a.insert(len(a), x) funcionaria como um a.append(x)inserindo o elemento x ao final da lista. Exemplos novamente com a lista de animais:"
      ]
    },
    {
      "cell_type": "code",
      "metadata": {
        "colab": {
          "base_uri": "https://localhost:8080/"
        },
        "id": "4n4QZmYcVzxM",
        "outputId": "88d1b27e-14cc-424d-b875-c6a05fe7a3d8"
      },
      "source": [
        "# Lista de animais\n",
        "animais = ['gato', 'cão', 'cavalos']\n",
        "\n",
        "# Lista de animais selvagens\n",
        "selvagens = ['tigre', 'raposa']\n",
        "\n",
        "# adicionando a lista de animais selvagens na posição 1\n",
        "animais.insert(1,selvagens)\n",
        "\n",
        "print(animais)"
      ],
      "execution_count": null,
      "outputs": [
        {
          "output_type": "stream",
          "text": [
            "['gato', ['tigre', 'raposa'], 'cão', 'cavalos']\n"
          ],
          "name": "stdout"
        }
      ]
    },
    {
      "cell_type": "code",
      "metadata": {
        "colab": {
          "base_uri": "https://localhost:8080/"
        },
        "id": "o8J2q6rJV7rE",
        "outputId": "b9d9f2c2-fedc-4870-89bb-fbea4ce4f58a"
      },
      "source": [
        "selvagens_2 = ['tubarão']\n",
        "animais.insert(3,selvagens_2)\n",
        "print(animais)"
      ],
      "execution_count": null,
      "outputs": [
        {
          "output_type": "stream",
          "text": [
            "['gato', ['tigre', 'raposa'], 'cão', ['tubarão'], 'cavalos']\n"
          ],
          "name": "stdout"
        }
      ]
    },
    {
      "cell_type": "markdown",
      "metadata": {
        "id": "ycF_16TpIpUi"
      },
      "source": [
        "### 4- Método remove <br>\n",
        "O método remove retira da lista o primeiro elemento cujo valor seja igual a x. <br> Ou seja, caso a lista possua vários elementos iguais a x, você precisará realizar essa operação várias vezes. Esse método dispara uma exceção do tipo ValueError para o caso de não encontrar o elemento.\n",
        "Ainda com o nosso exemplo de animais:"
      ]
    },
    {
      "cell_type": "code",
      "metadata": {
        "colab": {
          "base_uri": "https://localhost:8080/"
        },
        "id": "PWe-QeJQWOZ0",
        "outputId": "924a507c-7357-4266-f78a-640ce6d7e403"
      },
      "source": [
        "# Lista de animais\n",
        "animais = ['gato', 'cão', 'cavalos', 'gato', 'tigre']\n",
        "# removendo o primeiro gato\n",
        "animais.remove('gato')\n",
        "# Lista com somente um elemento\n",
        "print(animais)"
      ],
      "execution_count": null,
      "outputs": [
        {
          "output_type": "stream",
          "text": [
            "['cão', 'cavalos', 'gato', 'tigre']\n"
          ],
          "name": "stdout"
        }
      ]
    },
    {
      "cell_type": "code",
      "metadata": {
        "id": "B3FgdPcDWT-z"
      },
      "source": [
        "animais.remove('gato')"
      ],
      "execution_count": null,
      "outputs": []
    },
    {
      "cell_type": "code",
      "metadata": {
        "colab": {
          "base_uri": "https://localhost:8080/",
          "height": 167
        },
        "id": "TAJ05_SnWVHq",
        "outputId": "7e689018-7c56-45c4-b845-7d34092c0c79"
      },
      "source": [
        "animais.remove('gato')"
      ],
      "execution_count": null,
      "outputs": [
        {
          "output_type": "error",
          "ename": "ValueError",
          "evalue": "ignored",
          "traceback": [
            "\u001b[0;31m---------------------------------------------------------------------------\u001b[0m",
            "\u001b[0;31mValueError\u001b[0m                                Traceback (most recent call last)",
            "\u001b[0;32m<ipython-input-24-a80d843f25b6>\u001b[0m in \u001b[0;36m<module>\u001b[0;34m()\u001b[0m\n\u001b[0;32m----> 1\u001b[0;31m \u001b[0manimais\u001b[0m\u001b[0;34m.\u001b[0m\u001b[0mremove\u001b[0m\u001b[0;34m(\u001b[0m\u001b[0;34m'gato'\u001b[0m\u001b[0;34m)\u001b[0m\u001b[0;34m\u001b[0m\u001b[0;34m\u001b[0m\u001b[0m\n\u001b[0m",
            "\u001b[0;31mValueError\u001b[0m: list.remove(x): x not in list"
          ]
        }
      ]
    },
    {
      "cell_type": "markdown",
      "metadata": {
        "id": "yzd_MLfQcS8X"
      },
      "source": [
        "### 5- Método pop <br>\n",
        "O método pop deve ser utilizado para remover um elemento com um índice específico. Ou seja, ao utilizar a.pop(2), o elemento de índice 2 será removido e também retornado pelo método, ou seja, você poderá atribuir esse valor para alguma variável de forma a utilizá-la.\n",
        "Caso nenhum índice seja passado como parâmetro, o método pop() irá retornar o último elemento da lista."
      ]
    },
    {
      "cell_type": "code",
      "metadata": {
        "colab": {
          "base_uri": "https://localhost:8080/",
          "height": 35
        },
        "id": "mXDZwFHsWaos",
        "outputId": "1309a45c-27d1-4cd9-855f-909443ae2046"
      },
      "source": [
        "# Lista de animais\n",
        "animais = ['gato', 'cão', 'cavalos', 'gato', 'tigre']\n",
        "animais.pop(3)"
      ],
      "execution_count": null,
      "outputs": [
        {
          "output_type": "execute_result",
          "data": {
            "application/vnd.google.colaboratory.intrinsic+json": {
              "type": "string"
            },
            "text/plain": [
              "'gato'"
            ]
          },
          "metadata": {
            "tags": []
          },
          "execution_count": 27
        }
      ]
    },
    {
      "cell_type": "code",
      "metadata": {
        "colab": {
          "base_uri": "https://localhost:8080/"
        },
        "id": "vchtzhsMWekw",
        "outputId": "d256afb7-8d39-4c37-8f70-5449fa81518d"
      },
      "source": [
        "print(animais)\n",
        "animais.pop()\n",
        "print(animais)"
      ],
      "execution_count": null,
      "outputs": [
        {
          "output_type": "stream",
          "text": [
            "['gato', 'cão', 'cavalos', 'tigre']\n",
            "['gato', 'cão', 'cavalos']\n"
          ],
          "name": "stdout"
        }
      ]
    },
    {
      "cell_type": "markdown",
      "metadata": {
        "id": "nOoo_KUzcV0v"
      },
      "source": [
        "### 6- Método clear <br>\n",
        "O método clear é mais radical, remove todos os elementos de uma lista. Você utilizará em programas maiores para garantir uma determinada lista temporária foi esvaziada. Seria o equivalente a del a[:]"
      ]
    },
    {
      "cell_type": "code",
      "metadata": {
        "colab": {
          "base_uri": "https://localhost:8080/"
        },
        "id": "nBZ05UVQIFyx",
        "outputId": "08a3c683-0960-4ba4-b1d2-443056a99906"
      },
      "source": [
        "# definindo a lista\n",
        "lista_1 = [{1, 2}, ('a'), ['1.1', '2.2']]\n",
        "# limpando a lista\n",
        "print(lista_1)\n",
        "lista_1.clear()\n",
        "print(lista_1)"
      ],
      "execution_count": null,
      "outputs": [
        {
          "output_type": "stream",
          "text": [
            "[{1, 2}, 'a', ['1.1', '2.2']]\n",
            "[]\n"
          ],
          "name": "stdout"
        }
      ]
    }
  ]
}