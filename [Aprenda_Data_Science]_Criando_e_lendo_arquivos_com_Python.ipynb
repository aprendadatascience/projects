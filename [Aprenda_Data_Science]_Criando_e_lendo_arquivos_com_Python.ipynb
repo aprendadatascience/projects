{
  "nbformat": 4,
  "nbformat_minor": 0,
  "metadata": {
    "colab": {
      "name": "[Aprenda Data Science] Criando e lendo arquivos com Python.ipynb",
      "provenance": [],
      "authorship_tag": "ABX9TyNc52/rXWfH/Ny9fGuSikij",
      "include_colab_link": true
    },
    "kernelspec": {
      "name": "python3",
      "display_name": "Python 3"
    },
    "language_info": {
      "name": "python"
    }
  },
  "cells": [
    {
      "cell_type": "markdown",
      "metadata": {
        "id": "view-in-github",
        "colab_type": "text"
      },
      "source": [
        "<a href=\"https://colab.research.google.com/github/aprendadatascience/projects/blob/master/%5BAprenda_Data_Science%5D_Criando_e_lendo_arquivos_com_Python.ipynb\" target=\"_parent\"><img src=\"https://colab.research.google.com/assets/colab-badge.svg\" alt=\"Open In Colab\"/></a>"
      ]
    },
    {
      "cell_type": "markdown",
      "source": [
        "## Utilizando a função open() para criar um novo arquivo txt\n",
        "Para criar um novo arquivo texto, você pode utilizar a função open(). Neste exemplo você precisa utilizar apenas dois parâmetros:\n",
        "\n",
        "```\n",
        "f = open(path, modo)\n",
        "```\n",
        "Nessa sintaxe o parâmetro path especifica o caminho/diretório onde o arquivo será criado.\n",
        "\n",
        "Para criar um novo arquivo, utilize um dos seguintes modos:\n",
        "\n",
        "'w' – abre um arquivo para escrita (write).  Caso o arquivo não exista, um arquivo novo será criado. Caso contrário, o contéudo do arquivo antigo será sobrescrito. Ou seja, CUIDADO!\n",
        "\n",
        "'x' – abre um arquivo para escrita, mas não sobrescreve caso já exista um arquivo com o mesmo nome. Esse modo lança uma exceção FileExistsError neste caso.\n",
        "\n",
        "O código abaixo cria um arquivo chamado primeiro_teste.txt:"
      ],
      "metadata": {
        "id": "RfSs38tPMT5z"
      }
    },
    {
      "cell_type": "code",
      "execution_count": 2,
      "metadata": {
        "id": "PTtzwFNwIuXh"
      },
      "outputs": [],
      "source": [
        "with open('primeiro_teste.txt', 'w') as f:\n",
        "    f.write('primeiro arquivo criado')"
      ]
    },
    {
      "cell_type": "markdown",
      "source": [
        "### Criando diretórios/pastas"
      ],
      "metadata": {
        "id": "ceBDqHIpPB8T"
      }
    },
    {
      "cell_type": "code",
      "source": [
        "import os\n",
        "# pasta\n",
        "dir = \"arquivos\"\n",
        "parent_dir = \"/content/\"\n",
        "path = os.path.join(parent_dir, dir)\n",
        "os.mkdir(path)\n",
        "print(\"Pasta '% s' criada\" % dir)"
      ],
      "metadata": {
        "colab": {
          "base_uri": "https://localhost:8080/"
        },
        "id": "LPzs2aAcJErm",
        "outputId": "3c6a70c5-83d2-4c60-fc38-3982a2db96bd"
      },
      "execution_count": 1,
      "outputs": [
        {
          "output_type": "stream",
          "name": "stdout",
          "text": [
            "Pasta 'arquivos' criada\n"
          ]
        }
      ]
    },
    {
      "cell_type": "markdown",
      "source": [
        "## Criando um arquivo dentro da pasta arquivos:"
      ],
      "metadata": {
        "id": "Zf1YMfe7MTGd"
      }
    },
    {
      "cell_type": "code",
      "source": [
        "with open('arquivos/arquivo1.txt', 'w') as f:\n",
        "    f.write('arquivo 1 foi criado')"
      ],
      "metadata": {
        "id": "vWeAM1GWJ5_j"
      },
      "execution_count": 3,
      "outputs": []
    },
    {
      "cell_type": "code",
      "source": [
        "with open('arquivos/arquivo1.txt', 'w') as f:\n",
        "    f.write('Sobrescrevi sem querer')"
      ],
      "metadata": {
        "id": "mKzewvRqPlin"
      },
      "execution_count": 4,
      "outputs": []
    },
    {
      "cell_type": "code",
      "source": [
        "with open('arquivos/arquivo1.txt', 'x') as f:\n",
        "    f.write('arquivo 1 já existe')"
      ],
      "metadata": {
        "colab": {
          "base_uri": "https://localhost:8080/",
          "height": 183
        },
        "id": "S9S51OdrK9Pe",
        "outputId": "a4030e3f-674a-47d3-8995-a886d0edfba9"
      },
      "execution_count": 5,
      "outputs": [
        {
          "output_type": "error",
          "ename": "FileExistsError",
          "evalue": "ignored",
          "traceback": [
            "\u001b[0;31m---------------------------------------------------------------------------\u001b[0m",
            "\u001b[0;31mFileExistsError\u001b[0m                           Traceback (most recent call last)",
            "\u001b[0;32m<ipython-input-5-132aa31a47e0>\u001b[0m in \u001b[0;36m<module>\u001b[0;34m()\u001b[0m\n\u001b[0;32m----> 1\u001b[0;31m \u001b[0;32mwith\u001b[0m \u001b[0mopen\u001b[0m\u001b[0;34m(\u001b[0m\u001b[0;34m'arquivos/arquivo1.txt'\u001b[0m\u001b[0;34m,\u001b[0m \u001b[0;34m'x'\u001b[0m\u001b[0;34m)\u001b[0m \u001b[0;32mas\u001b[0m \u001b[0mf\u001b[0m\u001b[0;34m:\u001b[0m\u001b[0;34m\u001b[0m\u001b[0;34m\u001b[0m\u001b[0m\n\u001b[0m\u001b[1;32m      2\u001b[0m     \u001b[0mf\u001b[0m\u001b[0;34m.\u001b[0m\u001b[0mwrite\u001b[0m\u001b[0;34m(\u001b[0m\u001b[0;34m'arquivo 1 já existe'\u001b[0m\u001b[0;34m)\u001b[0m\u001b[0;34m\u001b[0m\u001b[0;34m\u001b[0m\u001b[0m\n",
            "\u001b[0;31mFileExistsError\u001b[0m: [Errno 17] File exists: 'arquivos/arquivo1.txt'"
          ]
        }
      ]
    },
    {
      "cell_type": "code",
      "source": [
        "with open('arquivo1.txt', 'x') as f:\n",
        "    f.write('Linha 1\\n')\n",
        "    f.write('Linha 2\\n')\n",
        "    f.write('Linha 3\\n')\n",
        "    f.write('Linha 4\\n')\n",
        "    f.write('Linha 5\\n')"
      ],
      "metadata": {
        "id": "jQpj5nB6LOLH"
      },
      "execution_count": 6,
      "outputs": []
    },
    {
      "cell_type": "markdown",
      "source": [
        "## Lendo arquivos com Python\n",
        "Para ler um arquivo texto em Python seguimos as etapas:\n",
        "\n",
        "1 - abrimos o arquivo texto para leitura utilizando a função open().<br>\n",
        "2- utilizamos os métodos read(), readline() ou readlines().<br>\n",
        "3- fechamos o arquivo utilizando o método close().\n",
        "\n",
        "Exemplo:\n",
        "```\n",
        "f = open('arquivo1.txt','r')\n",
        "```"
      ],
      "metadata": {
        "id": "6lUU0g7GP_Z6"
      }
    },
    {
      "cell_type": "code",
      "source": [
        "f = open('arquivo1.txt','r')\n",
        "conteudo=f.read()\n",
        "print(conteudo)"
      ],
      "metadata": {
        "id": "PF_T_27gUXTj",
        "colab": {
          "base_uri": "https://localhost:8080/"
        },
        "outputId": "0fba2dbf-4f3e-424c-cc8f-d22068af8d09"
      },
      "execution_count": 7,
      "outputs": [
        {
          "output_type": "stream",
          "name": "stdout",
          "text": [
            "Linha 1\n",
            "Linha 2\n",
            "Linha 3\n",
            "Linha 4\n",
            "Linha 5\n",
            "\n"
          ]
        }
      ]
    },
    {
      "cell_type": "markdown",
      "source": [
        "\n",
        "### Métodos de leitura\n",
        "Existem basicamente 3 métodos de ler o conteúdo de arquivos de texto:\n",
        "\n",
        "\n",
        "\n",
        "*   read() – lê todo o texto de um arquivo para uma string. Esse método é útil se você tiver um arquivo pequeno e deseja manipular o texto todo desse arquivo. \n",
        "*   readline() – lê o arquivo de texto linha por linha e retorna o conteúdo da linha como string.\n",
        "*   readlines() – lê todas as linhas do arquivo de texto e retorna como uma lista de strings."
      ],
      "metadata": {
        "id": "4l9cj6t-SB3Z"
      }
    },
    {
      "cell_type": "code",
      "source": [
        ""
      ],
      "metadata": {
        "id": "W2fwtTViLSSM"
      },
      "execution_count": null,
      "outputs": []
    },
    {
      "cell_type": "code",
      "source": [
        ""
      ],
      "metadata": {
        "id": "umYEA5LTSLoc"
      },
      "execution_count": null,
      "outputs": []
    },
    {
      "cell_type": "markdown",
      "source": [
        "### 3) Método close()\n",
        "Os arquivos continuam abertos enquanto não for utilizado o método close().\n",
        "\n",
        "Arquivos que continuam abertos podem ser corrompidos.\n",
        "\n",
        "Exemplo:\n",
        "```\n",
        "f = open('/content/arquivo1.txt','r')\n",
        "conteudo = f.read()\n",
        "f.close()\n",
        "```\n",
        "Normalmente utilizamos a declaração with, dessa forma o arquivo é fechado automaticamente:\n",
        "\n",
        "\n",
        "\n",
        "```\n",
        "with open('arquivo.txt') as f:\n",
        "    conteudo = f.readlines()\n",
        "```"
      ],
      "metadata": {
        "id": "Afbyuu3OSL7y"
      }
    },
    {
      "cell_type": "markdown",
      "source": [
        "## Lendo todo o conteúdo com read()"
      ],
      "metadata": {
        "id": "tZM1jXBZiXUR"
      }
    },
    {
      "cell_type": "code",
      "source": [
        "with open('/content/arquivo1.txt') as f:\n",
        "    conteudo = f.read()\n",
        "    print(conteudo)"
      ],
      "metadata": {
        "colab": {
          "base_uri": "https://localhost:8080/"
        },
        "id": "WIz2xn78ZhM9",
        "outputId": "1d84f5ec-0857-4563-ca71-9f9b2f6999f2"
      },
      "execution_count": null,
      "outputs": [
        {
          "output_type": "stream",
          "name": "stdout",
          "text": [
            "Linha 1\n",
            "Linha 2\n",
            "Linha 3\n",
            "Linha 4\n",
            "Linha 5\n",
            "\n"
          ]
        }
      ]
    },
    {
      "cell_type": "markdown",
      "source": [
        "## Lendo com readlines()"
      ],
      "metadata": {
        "id": "_-X2DTzUim6h"
      }
    },
    {
      "cell_type": "code",
      "source": [
        "lines = []\n",
        "with open('/content/arquivo1.txt') as f:\n",
        "    lines = f.readlines()\n",
        "\n",
        "count = 0\n",
        "for line in lines:\n",
        "    count += 1\n",
        "    print(f'linha {count}: {line}')  "
      ],
      "metadata": {
        "colab": {
          "base_uri": "https://localhost:8080/"
        },
        "id": "gH6ppVgsilpZ",
        "outputId": "ffd82900-aa9c-405e-9018-57ffb5a10a7f"
      },
      "execution_count": 8,
      "outputs": [
        {
          "output_type": "stream",
          "name": "stdout",
          "text": [
            "linha 1: Linha 1\n",
            "\n",
            "linha 2: Linha 2\n",
            "\n",
            "linha 3: Linha 3\n",
            "\n",
            "linha 4: Linha 4\n",
            "\n",
            "linha 5: Linha 5\n",
            "\n"
          ]
        }
      ]
    },
    {
      "cell_type": "code",
      "source": [
        "lines"
      ],
      "metadata": {
        "colab": {
          "base_uri": "https://localhost:8080/"
        },
        "id": "vGJ9GIEKAh8z",
        "outputId": "a77ae5e5-3371-4603-942e-fbaa907d6621"
      },
      "execution_count": 9,
      "outputs": [
        {
          "output_type": "execute_result",
          "data": {
            "text/plain": [
              "['Linha 1\\n', 'Linha 2\\n', 'Linha 3\\n', 'Linha 4\\n', 'Linha 5\\n']"
            ]
          },
          "metadata": {},
          "execution_count": 9
        }
      ]
    },
    {
      "cell_type": "markdown",
      "source": [
        "## Lendo com readline()"
      ],
      "metadata": {
        "id": "_vTCcOE6jB_F"
      }
    },
    {
      "cell_type": "code",
      "source": [
        "with open('/content/arquivo1.txt') as f:\n",
        "    while True:\n",
        "        line = f.readline()\n",
        "        if not line: \n",
        "            break\n",
        "        print(line)      "
      ],
      "metadata": {
        "colab": {
          "base_uri": "https://localhost:8080/"
        },
        "id": "Veo3MnxwjDjU",
        "outputId": "5d995e0b-934f-44d4-c567-bc34f11cf6cd"
      },
      "execution_count": 9,
      "outputs": [
        {
          "output_type": "stream",
          "name": "stdout",
          "text": [
            "Linha 1\n",
            "\n",
            "Linha 2\n",
            "\n",
            "Linha 3\n",
            "\n",
            "Linha 4\n",
            "\n",
            "Linha 5\n",
            "\n"
          ]
        }
      ]
    },
    {
      "cell_type": "code",
      "source": [
        "with open('/content/arquivo1.txt') as f:\n",
        "    for line in f:\n",
        "        print(line)"
      ],
      "metadata": {
        "colab": {
          "base_uri": "https://localhost:8080/"
        },
        "id": "oAXbt1qDjdHO",
        "outputId": "5884f0c5-e6e3-4d71-a6ae-d6116e2f1ac2"
      },
      "execution_count": null,
      "outputs": [
        {
          "output_type": "stream",
          "name": "stdout",
          "text": [
            "Linha 1\n",
            "\n",
            "Linha 2\n",
            "\n",
            "Linha 3\n",
            "\n",
            "Linha 4\n",
            "\n",
            "Linha 5\n",
            "\n"
          ]
        }
      ]
    },
    {
      "cell_type": "code",
      "source": [
        ""
      ],
      "metadata": {
        "id": "rLu4iijojf7S"
      },
      "execution_count": null,
      "outputs": []
    }
  ]
}